{
 "cells": [
  {
   "cell_type": "markdown",
   "metadata": {
    "id": "0QJDNuifaIwP",
    "toc": true
   },
   "source": [
    "<h1>Table of Contents<span class=\"tocSkip\"></span></h1>\n",
    "<div class=\"toc\"><ul class=\"toc-item\"><li><span><a href=\"#Overview\" data-toc-modified-id=\"Overview-1\"><span class=\"toc-item-num\">1&nbsp;&nbsp;</span>Overview</a></span></li><li><span><a href=\"#Notebook-Configuration\" data-toc-modified-id=\"Notebook-Configuration-2\"><span class=\"toc-item-num\">2&nbsp;&nbsp;</span>Notebook Configuration</a></span><ul class=\"toc-item\"><li><span><a href=\"#Google-drive\" data-toc-modified-id=\"Google-drive-2.1\"><span class=\"toc-item-num\">2.1&nbsp;&nbsp;</span>Google drive</a></span></li><li><span><a href=\"#Warning\" data-toc-modified-id=\"Warning-2.2\"><span class=\"toc-item-num\">2.2&nbsp;&nbsp;</span>Warning</a></span></li><li><span><a href=\"#Matplotlib\" data-toc-modified-id=\"Matplotlib-2.3\"><span class=\"toc-item-num\">2.3&nbsp;&nbsp;</span>Matplotlib</a></span></li><li><span><a href=\"#TensorFlow\" data-toc-modified-id=\"TensorFlow-2.4\"><span class=\"toc-item-num\">2.4&nbsp;&nbsp;</span>TensorFlow</a></span></li><li><span><a href=\"#Random-seed\" data-toc-modified-id=\"Random-seed-2.5\"><span class=\"toc-item-num\">2.5&nbsp;&nbsp;</span>Random seed</a></span></li></ul></li><li><span><a href=\"#An-End-to-End-Pipeline-for-Predicting-Cancer-in-BCW\" data-toc-modified-id=\"An-End-to-End-Pipeline-for-Predicting-Cancer-in-BCW-3\"><span class=\"toc-item-num\">3&nbsp;&nbsp;</span>An End-to-End Pipeline for Predicting Cancer in BCW</a></span><ul class=\"toc-item\"><li><span><a href=\"#Step-1:-Data-preprocessing\" data-toc-modified-id=\"Step-1:-Data-preprocessing-3.1\"><span class=\"toc-item-num\">3.1&nbsp;&nbsp;</span>Step 1: Data preprocessing</a></span><ul class=\"toc-item\"><li><span><a href=\"#Step-1a:--Loading-the-data\" data-toc-modified-id=\"Step-1a:--Loading-the-data-3.1.1\"><span class=\"toc-item-num\">3.1.1&nbsp;&nbsp;</span>Step 1a:  Loading the data</a></span></li><li><span><a href=\"#Step-1b:-Splitting-the-data\" data-toc-modified-id=\"Step-1b:-Splitting-the-data-3.1.2\"><span class=\"toc-item-num\">3.1.2&nbsp;&nbsp;</span>Step 1b: Splitting the data</a></span></li><li><span><a href=\"#Step-1c:-Handling-patient-identifiers\" data-toc-modified-id=\"Step-1c:-Handling-patient-identifiers-3.1.3\"><span class=\"toc-item-num\">3.1.3&nbsp;&nbsp;</span>Step 1c: Handling patient identifiers</a></span><ul class=\"toc-item\"><li><span><a href=\"#Combining-the-training,-validation-and-test-data\" data-toc-modified-id=\"Combining-the-training,-validation-and-test-data-3.1.3.1\"><span class=\"toc-item-num\">3.1.3.1&nbsp;&nbsp;</span>Combining the training, validation and test data</a></span></li><li><span><a href=\"#Identifying-identifiers\" data-toc-modified-id=\"Identifying-identifiers-3.1.3.2\"><span class=\"toc-item-num\">3.1.3.2&nbsp;&nbsp;</span>Identifying identifiers</a></span></li><li><span><a href=\"#Removing-identifiers\" data-toc-modified-id=\"Removing-identifiers-3.1.3.3\"><span class=\"toc-item-num\">3.1.3.3&nbsp;&nbsp;</span>Removing identifiers</a></span></li></ul></li><li><span><a href=\"#Step-1d:-Encoding-the-data\" data-toc-modified-id=\"Step-1d:-Encoding-the-data-3.1.4\"><span class=\"toc-item-num\">3.1.4&nbsp;&nbsp;</span>Step 1d: Encoding the data</a></span><ul class=\"toc-item\"><li><span><a href=\"#Combining-the-training,-validation-and-test-data\" data-toc-modified-id=\"Combining-the-training,-validation-and-test-data-3.1.4.1\"><span class=\"toc-item-num\">3.1.4.1&nbsp;&nbsp;</span>Combining the training, validation and test data</a></span></li><li><span><a href=\"#Identifying-categorical-variables\" data-toc-modified-id=\"Identifying-categorical-variables-3.1.4.2\"><span class=\"toc-item-num\">3.1.4.2&nbsp;&nbsp;</span>Identifying categorical variables</a></span></li><li><span><a href=\"#Encoding-categorical-features\" data-toc-modified-id=\"Encoding-categorical-features-3.1.4.3\"><span class=\"toc-item-num\">3.1.4.3&nbsp;&nbsp;</span>Encoding categorical features</a></span></li><li><span><a href=\"#Encoding-categorical-target\" data-toc-modified-id=\"Encoding-categorical-target-3.1.4.4\"><span class=\"toc-item-num\">3.1.4.4&nbsp;&nbsp;</span>Encoding categorical target</a></span></li><li><span><a href=\"#Separating-the-training,-validation-and-test-data\" data-toc-modified-id=\"Separating-the-training,-validation-and-test-data-3.1.4.5\"><span class=\"toc-item-num\">3.1.4.5&nbsp;&nbsp;</span>Separating the training, validation and test data</a></span></li></ul></li><li><span><a href=\"#Step-1e:-Splitting-the-feature-and-target\" data-toc-modified-id=\"Step-1e:-Splitting-the-feature-and-target-3.1.5\"><span class=\"toc-item-num\">3.1.5&nbsp;&nbsp;</span>Step 1e: Splitting the feature and target</a></span></li><li><span><a href=\"#Step-1f:-Scaling-the-features\" data-toc-modified-id=\"Step-1f:-Scaling-the-features-3.1.6\"><span class=\"toc-item-num\">3.1.6&nbsp;&nbsp;</span>Step 1f: Scaling the features</a></span><ul class=\"toc-item\"><li><span><a href=\"#Normalizing-the-features\" data-toc-modified-id=\"Normalizing-the-features-3.1.6.1\"><span class=\"toc-item-num\">3.1.6.1&nbsp;&nbsp;</span>Normalizing the features</a></span></li></ul></li></ul></li><li><span><a href=\"#Step-2:-Data-augmentation-using-RO,-SOMTE-and-GANs\" data-toc-modified-id=\"Step-2:-Data-augmentation-using-RO,-SOMTE-and-GANs-3.2\"><span class=\"toc-item-num\">3.2&nbsp;&nbsp;</span>Step 2: Data augmentation using RO, SOMTE and GANs</a></span><ul class=\"toc-item\"><li><span><a href=\"#Step-2a:-Obtaining-the-number-of-samples-for-each-class-and-identifying-the-minority-class\" data-toc-modified-id=\"Step-2a:-Obtaining-the-number-of-samples-for-each-class-and-identifying-the-minority-class-3.2.1\"><span class=\"toc-item-num\">3.2.1&nbsp;&nbsp;</span>Step 2a: Obtaining the number of samples for each class and identifying the minority class</a></span><ul class=\"toc-item\"><li><span><a href=\"#Obtaining-the-number-of-samples-for-each-class\" data-toc-modified-id=\"Obtaining-the-number-of-samples-for-each-class-3.2.1.1\"><span class=\"toc-item-num\">3.2.1.1&nbsp;&nbsp;</span>Obtaining the number of samples for each class</a></span></li><li><span><a href=\"#Identifying-the-minority-class\" data-toc-modified-id=\"Identifying-the-minority-class-3.2.1.2\"><span class=\"toc-item-num\">3.2.1.2&nbsp;&nbsp;</span>Identifying the minority class</a></span></li></ul></li><li><span><a href=\"#Step-2b:-Applying-RO-and-SMOTE\" data-toc-modified-id=\"Step-2b:-Applying-RO-and-SMOTE-3.2.2\"><span class=\"toc-item-num\">3.2.2&nbsp;&nbsp;</span>Step 2b: Applying RO and SMOTE</a></span><ul class=\"toc-item\"><li><span><a href=\"#Applying-RO\" data-toc-modified-id=\"Applying-RO-3.2.2.1\"><span class=\"toc-item-num\">3.2.2.1&nbsp;&nbsp;</span>Applying RO</a></span><ul class=\"toc-item\"><li><span><a href=\"#Augmenting-the-minority-class-in-the-training-data\" data-toc-modified-id=\"Augmenting-the-minority-class-in-the-training-data-3.2.2.1.1\"><span class=\"toc-item-num\">3.2.2.1.1&nbsp;&nbsp;</span>Augmenting the minority class in the training data</a></span></li><li><span><a href=\"#Getting-the-class-distribution\" data-toc-modified-id=\"Getting-the-class-distribution-3.2.2.1.2\"><span class=\"toc-item-num\">3.2.2.1.2&nbsp;&nbsp;</span>Getting the class distribution</a></span></li></ul></li><li><span><a href=\"#Applying-SMOTE\" data-toc-modified-id=\"Applying-SMOTE-3.2.2.2\"><span class=\"toc-item-num\">3.2.2.2&nbsp;&nbsp;</span>Applying SMOTE</a></span><ul class=\"toc-item\"><li><span><a href=\"#Augmenting-the-minority-class-in-the-training-data\" data-toc-modified-id=\"Augmenting-the-minority-class-in-the-training-data-3.2.2.2.1\"><span class=\"toc-item-num\">3.2.2.2.1&nbsp;&nbsp;</span>Augmenting the minority class in the training data</a></span></li><li><span><a href=\"#Getting-the-class-distribution\" data-toc-modified-id=\"Getting-the-class-distribution-3.2.2.2.2\"><span class=\"toc-item-num\">3.2.2.2.2&nbsp;&nbsp;</span>Getting the class distribution</a></span></li></ul></li></ul></li><li><span><a href=\"#Step-2c:-Developing-GANs\" data-toc-modified-id=\"Step-2c:-Developing-GANs-3.2.3\"><span class=\"toc-item-num\">3.2.3&nbsp;&nbsp;</span>Step 2c: Developing GANs</a></span><ul class=\"toc-item\"><li><span><a href=\"#Getting-the-training-data-of-the-minority-class\" data-toc-modified-id=\"Getting-the-training-data-of-the-minority-class-3.2.3.1\"><span class=\"toc-item-num\">3.2.3.1&nbsp;&nbsp;</span>Getting the training data of the minority class</a></span></li><li><span><a href=\"#Creating-the-directory-of-the-saved-GANs\" data-toc-modified-id=\"Creating-the-directory-of-the-saved-GANs-3.2.3.2\"><span class=\"toc-item-num\">3.2.3.2&nbsp;&nbsp;</span>Creating the directory of the saved GANs</a></span></li><li><span><a href=\"#Building-GANs\" data-toc-modified-id=\"Building-GANs-3.2.3.3\"><span class=\"toc-item-num\">3.2.3.3&nbsp;&nbsp;</span>Building GANs</a></span></li><li><span><a href=\"#Compiling-GANs\" data-toc-modified-id=\"Compiling-GANs-3.2.3.4\"><span class=\"toc-item-num\">3.2.3.4&nbsp;&nbsp;</span>Compiling GANs</a></span></li><li><span><a href=\"#Training-GANs\" data-toc-modified-id=\"Training-GANs-3.2.3.5\"><span class=\"toc-item-num\">3.2.3.5&nbsp;&nbsp;</span>Training GANs</a></span></li><li><span><a href=\"#Augmenting-the-minority-class-in-the-training-data\" data-toc-modified-id=\"Augmenting-the-minority-class-in-the-training-data-3.2.3.6\"><span class=\"toc-item-num\">3.2.3.6&nbsp;&nbsp;</span>Augmenting the minority class in the training data</a></span><ul class=\"toc-item\"><li><span><a href=\"#Loading-the-saved-model\" data-toc-modified-id=\"Loading-the-saved-model-3.2.3.6.1\"><span class=\"toc-item-num\">3.2.3.6.1&nbsp;&nbsp;</span>Loading the saved model</a></span></li><li><span><a href=\"#Generating-the-minority-class-data\" data-toc-modified-id=\"Generating-the-minority-class-data-3.2.3.6.2\"><span class=\"toc-item-num\">3.2.3.6.2&nbsp;&nbsp;</span>Generating the minority class data</a></span></li><li><span><a href=\"#Augmenting-the-minority-class-in-the-training-data\" data-toc-modified-id=\"Augmenting-the-minority-class-in-the-training-data-3.2.3.6.3\"><span class=\"toc-item-num\">3.2.3.6.3&nbsp;&nbsp;</span>Augmenting the minority class in the training data</a></span></li></ul></li></ul></li></ul></li><li><span><a href=\"#Step-3:-Training,-validating-and-testing-the-classifiers\" data-toc-modified-id=\"Step-3:-Training,-validating-and-testing-the-classifiers-3.3\"><span class=\"toc-item-num\">3.3&nbsp;&nbsp;</span>Step 3: Training, validating and testing the classifiers</a></span><ul class=\"toc-item\"><li><span><a href=\"#Step-3a:-Creating-the-dictionary-of-the-models\" data-toc-modified-id=\"Step-3a:-Creating-the-dictionary-of-the-models-3.3.1\"><span class=\"toc-item-num\">3.3.1&nbsp;&nbsp;</span>Step 3a: Creating the dictionary of the models</a></span></li><li><span><a href=\"#Step-3b:-Creating-the-dictionary-of-the-sklearn-pipelines\" data-toc-modified-id=\"Step-3b:-Creating-the-dictionary-of-the-sklearn-pipelines-3.3.2\"><span class=\"toc-item-num\">3.3.2&nbsp;&nbsp;</span>Step 3b: Creating the dictionary of the sklearn pipelines</a></span></li><li><span><a href=\"#Step-3c:-Creating-the-dictionary-of-the-parameter-grids\" data-toc-modified-id=\"Step-3c:-Creating-the-dictionary-of-the-parameter-grids-3.3.3\"><span class=\"toc-item-num\">3.3.3&nbsp;&nbsp;</span>Step 3c: Creating the dictionary of the parameter grids</a></span><ul class=\"toc-item\"><li><span><a href=\"#The-parameter-grid-for-histogram-based-gradient-boosting\" data-toc-modified-id=\"The-parameter-grid-for-histogram-based-gradient-boosting-3.3.3.1\"><span class=\"toc-item-num\">3.3.3.1&nbsp;&nbsp;</span>The parameter grid for histogram-based gradient boosting</a></span></li></ul></li><li><span><a href=\"#Step-3d:-Training,-validation-and-test\" data-toc-modified-id=\"Step-3d:-Training,-validation-and-test-3.3.4\"><span class=\"toc-item-num\">3.3.4&nbsp;&nbsp;</span>Step 3d: Training, validation and test</a></span><ul class=\"toc-item\"><li><span><a href=\"#Training,-validation-and-test-without-data-augmentation\" data-toc-modified-id=\"Training,-validation-and-test-without-data-augmentation-3.3.4.1\"><span class=\"toc-item-num\">3.3.4.1&nbsp;&nbsp;</span>Training, validation and test without data augmentation</a></span></li><li><span><a href=\"#Training,-validation-and-test-with-respect-to-RandomOverSampler\" data-toc-modified-id=\"Training,-validation-and-test-with-respect-to-RandomOverSampler-3.3.4.2\"><span class=\"toc-item-num\">3.3.4.2&nbsp;&nbsp;</span>Training, validation and test with respect to RandomOverSampler</a></span></li><li><span><a href=\"#Training,-validation-and-test-with-respect-to-SMOTE\" data-toc-modified-id=\"Training,-validation-and-test-with-respect-to-SMOTE-3.3.4.3\"><span class=\"toc-item-num\">3.3.4.3&nbsp;&nbsp;</span>Training, validation and test with respect to SMOTE</a></span></li><li><span><a href=\"#Training,-validation-and-test-with-respect-to-GANs\" data-toc-modified-id=\"Training,-validation-and-test-with-respect-to-GANs-3.3.4.4\"><span class=\"toc-item-num\">3.3.4.4&nbsp;&nbsp;</span>Training, validation and test with respect to GANs</a></span></li></ul></li></ul></li><li><span><a href=\"#Step-4:-Interpreting-the-results-using-visualization\" data-toc-modified-id=\"Step-4:-Interpreting-the-results-using-visualization-3.4\"><span class=\"toc-item-num\">3.4&nbsp;&nbsp;</span>Step 4: Interpreting the results using visualization</a></span><ul class=\"toc-item\"><li><span><a href=\"#Step-4a:-Creating-the-directory-of-the-figures\" data-toc-modified-id=\"Step-4a:-Creating-the-directory-of-the-figures-3.4.1\"><span class=\"toc-item-num\">3.4.1&nbsp;&nbsp;</span>Step 4a: Creating the directory of the figures</a></span></li><li><span><a href=\"#Step-4b:-Visualization-without-data-augmentation\" data-toc-modified-id=\"Step-4b:-Visualization-without-data-augmentation-3.4.2\"><span class=\"toc-item-num\">3.4.2&nbsp;&nbsp;</span>Step 4b: Visualization without data augmentation</a></span><ul class=\"toc-item\"><li><span><a href=\"#Plot-the-scatter-plot\" data-toc-modified-id=\"Plot-the-scatter-plot-3.4.2.1\"><span class=\"toc-item-num\">3.4.2.1&nbsp;&nbsp;</span>Plot the scatter plot</a></span></li></ul></li><li><span><a href=\"#Step-4c:-Visualization-with-respect-to-RO\" data-toc-modified-id=\"Step-4c:-Visualization-with-respect-to-RO-3.4.3\"><span class=\"toc-item-num\">3.4.3&nbsp;&nbsp;</span>Step 4c: Visualization with respect to RO</a></span><ul class=\"toc-item\"><li><span><a href=\"#Separate-the-duplicated-class-from-the-original-class\" data-toc-modified-id=\"Separate-the-duplicated-class-from-the-original-class-3.4.3.1\"><span class=\"toc-item-num\">3.4.3.1&nbsp;&nbsp;</span>Separate the duplicated class from the original class</a></span></li><li><span><a href=\"#Plot-the-scatter-plot\" data-toc-modified-id=\"Plot-the-scatter-plot-3.4.3.2\"><span class=\"toc-item-num\">3.4.3.2&nbsp;&nbsp;</span>Plot the scatter plot</a></span></li></ul></li><li><span><a href=\"#Step-4d:-Visualization-with-respect-to-SMOTE\" data-toc-modified-id=\"Step-4d:-Visualization-with-respect-to-SMOTE-3.4.4\"><span class=\"toc-item-num\">3.4.4&nbsp;&nbsp;</span>Step 4d: Visualization with respect to SMOTE</a></span><ul class=\"toc-item\"><li><span><a href=\"#Separate-the-generated-class-from-the-original-class\" data-toc-modified-id=\"Separate-the-generated-class-from-the-original-class-3.4.4.1\"><span class=\"toc-item-num\">3.4.4.1&nbsp;&nbsp;</span>Separate the generated class from the original class</a></span></li><li><span><a href=\"#Plot-the-scatter-plot\" data-toc-modified-id=\"Plot-the-scatter-plot-3.4.4.2\"><span class=\"toc-item-num\">3.4.4.2&nbsp;&nbsp;</span>Plot the scatter plot</a></span></li></ul></li><li><span><a href=\"#Step-4e:-Visualization-with-respect-to-GANs\" data-toc-modified-id=\"Step-4e:-Visualization-with-respect-to-GANs-3.4.5\"><span class=\"toc-item-num\">3.4.5&nbsp;&nbsp;</span>Step 4e: Visualization with respect to GANs</a></span><ul class=\"toc-item\"><li><span><a href=\"#Separate-the-generated-class-from-the-original-class\" data-toc-modified-id=\"Separate-the-generated-class-from-the-original-class-3.4.5.1\"><span class=\"toc-item-num\">3.4.5.1&nbsp;&nbsp;</span>Separate the generated class from the original class</a></span></li><li><span><a href=\"#Plot-the-scatter-plot\" data-toc-modified-id=\"Plot-the-scatter-plot-3.4.5.2\"><span class=\"toc-item-num\">3.4.5.2&nbsp;&nbsp;</span>Plot the scatter plot</a></span></li></ul></li></ul></li></ul></li><li><span><a href=\"#Reference\" data-toc-modified-id=\"Reference-4\"><span class=\"toc-item-num\">4&nbsp;&nbsp;</span>Reference</a></span></li></ul></div>"
   ]
  },
  {
   "cell_type": "markdown",
   "metadata": {
    "id": "pKlbheSUaIwR"
   },
   "source": [
    "<b>\n",
    "\n",
    "<p>\n",
    "<center>\n",
    "<font size=\"5\">\n",
    "An End-to-End Pipeline for Diagnosing Cancer in BCW\n",
    "</font>\n",
    "</center>\n",
    "</p>\n",
    "</b>"
   ]
  },
  {
   "cell_type": "markdown",
   "metadata": {
    "id": "rT2SKHw2zlEi"
   },
   "source": [
    "# Overview"
   ]
  },
  {
   "cell_type": "markdown",
   "metadata": {
    "id": "asZWLrJKzlEj"
   },
   "source": [
    "This notebook includes the code for an end-to-end pipeline for diagnosing cancer in BCW, introduced in the following paper submitted to Journal *Statistics in Medicine*:\n",
    "- \"Improving Classification Accuracy by Data Augmentation using Generative Adversarial Networks\""
   ]
  },
  {
   "cell_type": "markdown",
   "metadata": {
    "id": "WJ-IbZqAgILJ"
   },
   "source": [
    "# Notebook Configuration"
   ]
  },
  {
   "cell_type": "markdown",
   "metadata": {
    "id": "H3yB94KtgMHu"
   },
   "source": [
    "## Google drive"
   ]
  },
  {
   "cell_type": "code",
   "execution_count": 1,
   "metadata": {
    "colab": {
     "base_uri": "https://localhost:8080/"
    },
    "executionInfo": {
     "elapsed": 20910,
     "status": "ok",
     "timestamp": 1604370385758,
     "user": {
      "displayName": "Huang Yuxiao",
      "photoUrl": "",
      "userId": "05167076769245149404"
     },
     "user_tz": 300
    },
    "id": "jWmYBTOwgNs-",
    "outputId": "466bfc15-a532-4017-fb13-227427720715"
   },
   "outputs": [
    {
     "name": "stdout",
     "output_type": "stream",
     "text": [
      "Mounted at /content/drive\n"
     ]
    }
   ],
   "source": [
    "from google.colab import drive\n",
    "import sys\n",
    "\n",
    "# Mount Google Drive\n",
    "drive.mount('/content/drive')\n",
    "\n",
    "# Get the absolute path of the current folder\n",
    "abspath_curr = '/content/drive/My Drive/Colab Notebooks/research/gwu/paper/working/gan_classification/'\n",
    "\n",
    "# Get the absolute path of the shallow utilities folder\n",
    "abspath_util_shallow = abspath_curr + 'code/'"
   ]
  },
  {
   "cell_type": "markdown",
   "metadata": {
    "id": "bYZhU1Wqgmqx"
   },
   "source": [
    "## Warning"
   ]
  },
  {
   "cell_type": "code",
   "execution_count": 2,
   "metadata": {
    "executionInfo": {
     "elapsed": 20909,
     "status": "ok",
     "timestamp": 1604370385760,
     "user": {
      "displayName": "Huang Yuxiao",
      "photoUrl": "",
      "userId": "05167076769245149404"
     },
     "user_tz": 300
    },
    "id": "MUl4k83e4ANR"
   },
   "outputs": [],
   "source": [
    "import warnings\n",
    "\n",
    "# Ignore warnings\n",
    "warnings.filterwarnings('ignore')"
   ]
  },
  {
   "cell_type": "markdown",
   "metadata": {
    "id": "6WMODpPfgn2U"
   },
   "source": [
    "## Matplotlib"
   ]
  },
  {
   "cell_type": "code",
   "execution_count": 3,
   "metadata": {
    "executionInfo": {
     "elapsed": 20909,
     "status": "ok",
     "timestamp": 1604370385761,
     "user": {
      "displayName": "Huang Yuxiao",
      "photoUrl": "",
      "userId": "05167076769245149404"
     },
     "user_tz": 300
    },
    "id": "DBRVH9SB4ANb"
   },
   "outputs": [],
   "source": [
    "import matplotlib.pyplot as plt\n",
    "%matplotlib inline \n",
    "\n",
    "# Set matplotlib sizes\n",
    "plt.rc('font', size=20)\n",
    "plt.rc('axes', titlesize=20)\n",
    "plt.rc('axes', labelsize=20)\n",
    "plt.rc('xtick', labelsize=20)\n",
    "plt.rc('ytick', labelsize=20)\n",
    "plt.rc('legend', fontsize=18)\n",
    "plt.rc('figure', titlesize=20)"
   ]
  },
  {
   "cell_type": "markdown",
   "metadata": {
    "id": "n-wNDk5nZhhO"
   },
   "source": [
    "## TensorFlow"
   ]
  },
  {
   "cell_type": "code",
   "execution_count": 4,
   "metadata": {
    "executionInfo": {
     "elapsed": 21989,
     "status": "ok",
     "timestamp": 1604370386843,
     "user": {
      "displayName": "Huang Yuxiao",
      "photoUrl": "",
      "userId": "05167076769245149404"
     },
     "user_tz": 300
    },
    "id": "LjG43tEnZkfE"
   },
   "outputs": [],
   "source": [
    "# The magic below allows us to use tensorflow version 2.x\n",
    "%tensorflow_version 2.x \n",
    "import tensorflow as tf\n",
    "from tensorflow import keras"
   ]
  },
  {
   "cell_type": "markdown",
   "metadata": {
    "id": "40FN3UNfO2Z7"
   },
   "source": [
    "## Random seed"
   ]
  },
  {
   "cell_type": "code",
   "execution_count": 5,
   "metadata": {
    "executionInfo": {
     "elapsed": 21989,
     "status": "ok",
     "timestamp": 1604370386844,
     "user": {
      "displayName": "Huang Yuxiao",
      "photoUrl": "",
      "userId": "05167076769245149404"
     },
     "user_tz": 300
    },
    "id": "uSADk0hJP71d"
   },
   "outputs": [],
   "source": [
    "# The random seed\n",
    "random_seed = 42\n",
    "\n",
    "# Set random seed in tensorflow\n",
    "tf.random.set_seed(random_seed)\n",
    "\n",
    "# Set random seed in numpy\n",
    "import numpy as np\n",
    "np.random.seed(random_seed)"
   ]
  },
  {
   "cell_type": "markdown",
   "metadata": {
    "id": "2N71JTIGyJKh"
   },
   "source": [
    "# An End-to-End Pipeline for Predicting Cancer in BCW"
   ]
  },
  {
   "cell_type": "markdown",
   "metadata": {
    "id": "yAwfz8iYzlFC"
   },
   "source": [
    "## Step 1: Data preprocessing"
   ]
  },
  {
   "cell_type": "code",
   "execution_count": 6,
   "metadata": {
    "colab": {
     "base_uri": "https://localhost:8080/"
    },
    "executionInfo": {
     "elapsed": 23678,
     "status": "ok",
     "timestamp": 1604370388557,
     "user": {
      "displayName": "Huang Yuxiao",
      "photoUrl": "",
      "userId": "05167076769245149404"
     },
     "user_tz": 300
    },
    "id": "D-Mwc6MczlFD",
    "outputId": "0e450196-5f3e-419c-bc21-82764c9a2c94"
   },
   "outputs": [
    {
     "name": "stdout",
     "output_type": "stream",
     "text": [
      "/content/drive/My Drive/Colab Notebooks/research/gwu/paper/working/gan_classification/code\n"
     ]
    }
   ],
   "source": [
    "# Change working directory to the absolute path of the shallow utilities folder\n",
    "%cd $abspath_util_shallow\n",
    "\n",
    "# Import the shallow utitilities\n",
    "%run pmlm_utilities_shallow.ipynb"
   ]
  },
  {
   "cell_type": "markdown",
   "metadata": {
    "id": "oIJsDoJGzlFE"
   },
   "source": [
    "### Step 1a:  Loading the data"
   ]
  },
  {
   "cell_type": "markdown",
   "metadata": {
    "id": "Rk5KMdxqzlFE"
   },
   "source": [
    "In this pipeline, we will use the [Breast Cancer Wisconsin (Diagnostic) dataset](https://www.kaggle.com/uciml/breast-cancer-wisconsin-data)."
   ]
  },
  {
   "cell_type": "code",
   "execution_count": 7,
   "metadata": {
    "executionInfo": {
     "elapsed": 24962,
     "status": "ok",
     "timestamp": 1604370389842,
     "user": {
      "displayName": "Huang Yuxiao",
      "photoUrl": "",
      "userId": "05167076769245149404"
     },
     "user_tz": 300
    },
    "id": "eC6G3GdAyJKi",
    "scrolled": true
   },
   "outputs": [],
   "source": [
    "import pandas as pd\n",
    "\n",
    "# Load the raw data\n",
    "df_raw = pd.read_csv(abspath_curr + 'data/datasets-180-408-data.csv',\n",
    "                     header=0)\n",
    "\n",
    "# Remove the unnamed column\n",
    "df_raw = df_raw.drop(columns='Unnamed: 32')\n",
    "\n",
    "# Make a copy of df_raw\n",
    "df = df_raw.copy(deep=True)\n",
    "\n",
    "# Get the name of the target\n",
    "target = 'diagnosis'"
   ]
  },
  {
   "cell_type": "code",
   "execution_count": 8,
   "metadata": {
    "colab": {
     "base_uri": "https://localhost:8080/",
     "height": 80
    },
    "executionInfo": {
     "elapsed": 24938,
     "status": "ok",
     "timestamp": 1604370389843,
     "user": {
      "displayName": "Huang Yuxiao",
      "photoUrl": "",
      "userId": "05167076769245149404"
     },
     "user_tz": 300
    },
    "id": "zoA_w8-eyJKk",
    "outputId": "afb71793-148a-4f5d-aa53-ff4613867241"
   },
   "outputs": [
    {
     "data": {
      "text/html": [
       "<div>\n",
       "<style scoped>\n",
       "    .dataframe tbody tr th:only-of-type {\n",
       "        vertical-align: middle;\n",
       "    }\n",
       "\n",
       "    .dataframe tbody tr th {\n",
       "        vertical-align: top;\n",
       "    }\n",
       "\n",
       "    .dataframe thead th {\n",
       "        text-align: right;\n",
       "    }\n",
       "</style>\n",
       "<table border=\"1\" class=\"dataframe\">\n",
       "  <thead>\n",
       "    <tr style=\"text-align: right;\">\n",
       "      <th></th>\n",
       "      <th># rows</th>\n",
       "      <th># columns</th>\n",
       "    </tr>\n",
       "  </thead>\n",
       "  <tbody>\n",
       "    <tr>\n",
       "      <th>0</th>\n",
       "      <td>569</td>\n",
       "      <td>32</td>\n",
       "    </tr>\n",
       "  </tbody>\n",
       "</table>\n",
       "</div>"
      ],
      "text/plain": [
       "   # rows  # columns\n",
       "0     569         32"
      ]
     },
     "execution_count": 8,
     "metadata": {
      "tags": []
     },
     "output_type": "execute_result"
    }
   ],
   "source": [
    "# Print the dimension of df\n",
    "pd.DataFrame([[df.shape[0], df.shape[1]]], columns=['# rows', '# columns'])"
   ]
  },
  {
   "cell_type": "code",
   "execution_count": 9,
   "metadata": {
    "colab": {
     "base_uri": "https://localhost:8080/",
     "height": 241
    },
    "executionInfo": {
     "elapsed": 25414,
     "status": "ok",
     "timestamp": 1604370390342,
     "user": {
      "displayName": "Huang Yuxiao",
      "photoUrl": "",
      "userId": "05167076769245149404"
     },
     "user_tz": 300
    },
    "id": "srQBlGfRyJKo",
    "outputId": "03597744-d9fd-4a01-ead6-1e895d0a56a5",
    "scrolled": false
   },
   "outputs": [
    {
     "data": {
      "text/html": [
       "<div>\n",
       "<style scoped>\n",
       "    .dataframe tbody tr th:only-of-type {\n",
       "        vertical-align: middle;\n",
       "    }\n",
       "\n",
       "    .dataframe tbody tr th {\n",
       "        vertical-align: top;\n",
       "    }\n",
       "\n",
       "    .dataframe thead th {\n",
       "        text-align: right;\n",
       "    }\n",
       "</style>\n",
       "<table border=\"1\" class=\"dataframe\">\n",
       "  <thead>\n",
       "    <tr style=\"text-align: right;\">\n",
       "      <th></th>\n",
       "      <th>id</th>\n",
       "      <th>diagnosis</th>\n",
       "      <th>radius_mean</th>\n",
       "      <th>texture_mean</th>\n",
       "      <th>perimeter_mean</th>\n",
       "      <th>area_mean</th>\n",
       "      <th>smoothness_mean</th>\n",
       "      <th>compactness_mean</th>\n",
       "      <th>concavity_mean</th>\n",
       "      <th>concave points_mean</th>\n",
       "      <th>symmetry_mean</th>\n",
       "      <th>fractal_dimension_mean</th>\n",
       "      <th>radius_se</th>\n",
       "      <th>texture_se</th>\n",
       "      <th>perimeter_se</th>\n",
       "      <th>area_se</th>\n",
       "      <th>smoothness_se</th>\n",
       "      <th>compactness_se</th>\n",
       "      <th>concavity_se</th>\n",
       "      <th>concave points_se</th>\n",
       "      <th>symmetry_se</th>\n",
       "      <th>fractal_dimension_se</th>\n",
       "      <th>radius_worst</th>\n",
       "      <th>texture_worst</th>\n",
       "      <th>perimeter_worst</th>\n",
       "      <th>area_worst</th>\n",
       "      <th>smoothness_worst</th>\n",
       "      <th>compactness_worst</th>\n",
       "      <th>concavity_worst</th>\n",
       "      <th>concave points_worst</th>\n",
       "      <th>symmetry_worst</th>\n",
       "      <th>fractal_dimension_worst</th>\n",
       "    </tr>\n",
       "  </thead>\n",
       "  <tbody>\n",
       "    <tr>\n",
       "      <th>0</th>\n",
       "      <td>842302</td>\n",
       "      <td>M</td>\n",
       "      <td>17.99</td>\n",
       "      <td>10.38</td>\n",
       "      <td>122.80</td>\n",
       "      <td>1001.0</td>\n",
       "      <td>0.11840</td>\n",
       "      <td>0.27760</td>\n",
       "      <td>0.3001</td>\n",
       "      <td>0.14710</td>\n",
       "      <td>0.2419</td>\n",
       "      <td>0.07871</td>\n",
       "      <td>1.0950</td>\n",
       "      <td>0.9053</td>\n",
       "      <td>8.589</td>\n",
       "      <td>153.40</td>\n",
       "      <td>0.006399</td>\n",
       "      <td>0.04904</td>\n",
       "      <td>0.05373</td>\n",
       "      <td>0.01587</td>\n",
       "      <td>0.03003</td>\n",
       "      <td>0.006193</td>\n",
       "      <td>25.38</td>\n",
       "      <td>17.33</td>\n",
       "      <td>184.60</td>\n",
       "      <td>2019.0</td>\n",
       "      <td>0.1622</td>\n",
       "      <td>0.6656</td>\n",
       "      <td>0.7119</td>\n",
       "      <td>0.2654</td>\n",
       "      <td>0.4601</td>\n",
       "      <td>0.11890</td>\n",
       "    </tr>\n",
       "    <tr>\n",
       "      <th>1</th>\n",
       "      <td>842517</td>\n",
       "      <td>M</td>\n",
       "      <td>20.57</td>\n",
       "      <td>17.77</td>\n",
       "      <td>132.90</td>\n",
       "      <td>1326.0</td>\n",
       "      <td>0.08474</td>\n",
       "      <td>0.07864</td>\n",
       "      <td>0.0869</td>\n",
       "      <td>0.07017</td>\n",
       "      <td>0.1812</td>\n",
       "      <td>0.05667</td>\n",
       "      <td>0.5435</td>\n",
       "      <td>0.7339</td>\n",
       "      <td>3.398</td>\n",
       "      <td>74.08</td>\n",
       "      <td>0.005225</td>\n",
       "      <td>0.01308</td>\n",
       "      <td>0.01860</td>\n",
       "      <td>0.01340</td>\n",
       "      <td>0.01389</td>\n",
       "      <td>0.003532</td>\n",
       "      <td>24.99</td>\n",
       "      <td>23.41</td>\n",
       "      <td>158.80</td>\n",
       "      <td>1956.0</td>\n",
       "      <td>0.1238</td>\n",
       "      <td>0.1866</td>\n",
       "      <td>0.2416</td>\n",
       "      <td>0.1860</td>\n",
       "      <td>0.2750</td>\n",
       "      <td>0.08902</td>\n",
       "    </tr>\n",
       "    <tr>\n",
       "      <th>2</th>\n",
       "      <td>84300903</td>\n",
       "      <td>M</td>\n",
       "      <td>19.69</td>\n",
       "      <td>21.25</td>\n",
       "      <td>130.00</td>\n",
       "      <td>1203.0</td>\n",
       "      <td>0.10960</td>\n",
       "      <td>0.15990</td>\n",
       "      <td>0.1974</td>\n",
       "      <td>0.12790</td>\n",
       "      <td>0.2069</td>\n",
       "      <td>0.05999</td>\n",
       "      <td>0.7456</td>\n",
       "      <td>0.7869</td>\n",
       "      <td>4.585</td>\n",
       "      <td>94.03</td>\n",
       "      <td>0.006150</td>\n",
       "      <td>0.04006</td>\n",
       "      <td>0.03832</td>\n",
       "      <td>0.02058</td>\n",
       "      <td>0.02250</td>\n",
       "      <td>0.004571</td>\n",
       "      <td>23.57</td>\n",
       "      <td>25.53</td>\n",
       "      <td>152.50</td>\n",
       "      <td>1709.0</td>\n",
       "      <td>0.1444</td>\n",
       "      <td>0.4245</td>\n",
       "      <td>0.4504</td>\n",
       "      <td>0.2430</td>\n",
       "      <td>0.3613</td>\n",
       "      <td>0.08758</td>\n",
       "    </tr>\n",
       "    <tr>\n",
       "      <th>3</th>\n",
       "      <td>84348301</td>\n",
       "      <td>M</td>\n",
       "      <td>11.42</td>\n",
       "      <td>20.38</td>\n",
       "      <td>77.58</td>\n",
       "      <td>386.1</td>\n",
       "      <td>0.14250</td>\n",
       "      <td>0.28390</td>\n",
       "      <td>0.2414</td>\n",
       "      <td>0.10520</td>\n",
       "      <td>0.2597</td>\n",
       "      <td>0.09744</td>\n",
       "      <td>0.4956</td>\n",
       "      <td>1.1560</td>\n",
       "      <td>3.445</td>\n",
       "      <td>27.23</td>\n",
       "      <td>0.009110</td>\n",
       "      <td>0.07458</td>\n",
       "      <td>0.05661</td>\n",
       "      <td>0.01867</td>\n",
       "      <td>0.05963</td>\n",
       "      <td>0.009208</td>\n",
       "      <td>14.91</td>\n",
       "      <td>26.50</td>\n",
       "      <td>98.87</td>\n",
       "      <td>567.7</td>\n",
       "      <td>0.2098</td>\n",
       "      <td>0.8663</td>\n",
       "      <td>0.6869</td>\n",
       "      <td>0.2575</td>\n",
       "      <td>0.6638</td>\n",
       "      <td>0.17300</td>\n",
       "    </tr>\n",
       "    <tr>\n",
       "      <th>4</th>\n",
       "      <td>84358402</td>\n",
       "      <td>M</td>\n",
       "      <td>20.29</td>\n",
       "      <td>14.34</td>\n",
       "      <td>135.10</td>\n",
       "      <td>1297.0</td>\n",
       "      <td>0.10030</td>\n",
       "      <td>0.13280</td>\n",
       "      <td>0.1980</td>\n",
       "      <td>0.10430</td>\n",
       "      <td>0.1809</td>\n",
       "      <td>0.05883</td>\n",
       "      <td>0.7572</td>\n",
       "      <td>0.7813</td>\n",
       "      <td>5.438</td>\n",
       "      <td>94.44</td>\n",
       "      <td>0.011490</td>\n",
       "      <td>0.02461</td>\n",
       "      <td>0.05688</td>\n",
       "      <td>0.01885</td>\n",
       "      <td>0.01756</td>\n",
       "      <td>0.005115</td>\n",
       "      <td>22.54</td>\n",
       "      <td>16.67</td>\n",
       "      <td>152.20</td>\n",
       "      <td>1575.0</td>\n",
       "      <td>0.1374</td>\n",
       "      <td>0.2050</td>\n",
       "      <td>0.4000</td>\n",
       "      <td>0.1625</td>\n",
       "      <td>0.2364</td>\n",
       "      <td>0.07678</td>\n",
       "    </tr>\n",
       "  </tbody>\n",
       "</table>\n",
       "</div>"
      ],
      "text/plain": [
       "         id diagnosis  ...  symmetry_worst  fractal_dimension_worst\n",
       "0    842302         M  ...          0.4601                  0.11890\n",
       "1    842517         M  ...          0.2750                  0.08902\n",
       "2  84300903         M  ...          0.3613                  0.08758\n",
       "3  84348301         M  ...          0.6638                  0.17300\n",
       "4  84358402         M  ...          0.2364                  0.07678\n",
       "\n",
       "[5 rows x 32 columns]"
      ]
     },
     "execution_count": 9,
     "metadata": {
      "tags": []
     },
     "output_type": "execute_result"
    }
   ],
   "source": [
    "# Print the first 5 rows of df\n",
    "df.head()"
   ]
  },
  {
   "cell_type": "markdown",
   "metadata": {
    "id": "Sm04mTxDyJKs"
   },
   "source": [
    "### Step 1b: Splitting the data\n",
    "The code below shows how to divide the data into training (50%), validation (20%) and test (30%)."
   ]
  },
  {
   "cell_type": "code",
   "execution_count": 10,
   "metadata": {
    "executionInfo": {
     "elapsed": 25413,
     "status": "ok",
     "timestamp": 1604370390343,
     "user": {
      "displayName": "Huang Yuxiao",
      "photoUrl": "",
      "userId": "05167076769245149404"
     },
     "user_tz": 300
    },
    "id": "10nSbPb5yJKt"
   },
   "outputs": [],
   "source": [
    "from sklearn.model_selection import train_test_split\n",
    "\n",
    "# Divide the data into training (50%) and test (50%)\n",
    "df_train, df_test = train_test_split(df, \n",
    "                                     train_size=0.5, \n",
    "                                     random_state=random_seed, \n",
    "                                     stratify=df[target])\n",
    "\n",
    "# Divide the test data into validation (60%) and test (40%)\n",
    "df_val, df_test = train_test_split(df_test, \n",
    "                                   train_size=0.4, \n",
    "                                   random_state=random_seed, \n",
    "                                   stratify=df_test[target])\n",
    "\n",
    "# Reset the index\n",
    "df_train, df_val, df_test = df_train.reset_index(drop=True), df_val.reset_index(drop=True), df_test.reset_index(drop=True)"
   ]
  },
  {
   "cell_type": "code",
   "execution_count": 11,
   "metadata": {
    "colab": {
     "base_uri": "https://localhost:8080/",
     "height": 80
    },
    "executionInfo": {
     "elapsed": 25391,
     "status": "ok",
     "timestamp": 1604370390344,
     "user": {
      "displayName": "Huang Yuxiao",
      "photoUrl": "",
      "userId": "05167076769245149404"
     },
     "user_tz": 300
    },
    "id": "2cWsAS6CyJKu",
    "outputId": "cb6596ce-aa6c-4cfb-bc46-5e8281e2aa87"
   },
   "outputs": [
    {
     "data": {
      "text/html": [
       "<div>\n",
       "<style scoped>\n",
       "    .dataframe tbody tr th:only-of-type {\n",
       "        vertical-align: middle;\n",
       "    }\n",
       "\n",
       "    .dataframe tbody tr th {\n",
       "        vertical-align: top;\n",
       "    }\n",
       "\n",
       "    .dataframe thead th {\n",
       "        text-align: right;\n",
       "    }\n",
       "</style>\n",
       "<table border=\"1\" class=\"dataframe\">\n",
       "  <thead>\n",
       "    <tr style=\"text-align: right;\">\n",
       "      <th></th>\n",
       "      <th># rows</th>\n",
       "      <th># columns</th>\n",
       "    </tr>\n",
       "  </thead>\n",
       "  <tbody>\n",
       "    <tr>\n",
       "      <th>0</th>\n",
       "      <td>284</td>\n",
       "      <td>32</td>\n",
       "    </tr>\n",
       "  </tbody>\n",
       "</table>\n",
       "</div>"
      ],
      "text/plain": [
       "   # rows  # columns\n",
       "0     284         32"
      ]
     },
     "execution_count": 11,
     "metadata": {
      "tags": []
     },
     "output_type": "execute_result"
    }
   ],
   "source": [
    "# Print the dimension of df_train\n",
    "pd.DataFrame([[df_train.shape[0], df_train.shape[1]]], columns=['# rows', '# columns'])"
   ]
  },
  {
   "cell_type": "code",
   "execution_count": 12,
   "metadata": {
    "colab": {
     "base_uri": "https://localhost:8080/",
     "height": 80
    },
    "executionInfo": {
     "elapsed": 25368,
     "status": "ok",
     "timestamp": 1604370390344,
     "user": {
      "displayName": "Huang Yuxiao",
      "photoUrl": "",
      "userId": "05167076769245149404"
     },
     "user_tz": 300
    },
    "id": "tGtqJbbhyJKw",
    "outputId": "250c8466-617e-4bc9-8be8-11030b65d983",
    "scrolled": true
   },
   "outputs": [
    {
     "data": {
      "text/html": [
       "<div>\n",
       "<style scoped>\n",
       "    .dataframe tbody tr th:only-of-type {\n",
       "        vertical-align: middle;\n",
       "    }\n",
       "\n",
       "    .dataframe tbody tr th {\n",
       "        vertical-align: top;\n",
       "    }\n",
       "\n",
       "    .dataframe thead th {\n",
       "        text-align: right;\n",
       "    }\n",
       "</style>\n",
       "<table border=\"1\" class=\"dataframe\">\n",
       "  <thead>\n",
       "    <tr style=\"text-align: right;\">\n",
       "      <th></th>\n",
       "      <th># rows</th>\n",
       "      <th># columns</th>\n",
       "    </tr>\n",
       "  </thead>\n",
       "  <tbody>\n",
       "    <tr>\n",
       "      <th>0</th>\n",
       "      <td>114</td>\n",
       "      <td>32</td>\n",
       "    </tr>\n",
       "  </tbody>\n",
       "</table>\n",
       "</div>"
      ],
      "text/plain": [
       "   # rows  # columns\n",
       "0     114         32"
      ]
     },
     "execution_count": 12,
     "metadata": {
      "tags": []
     },
     "output_type": "execute_result"
    }
   ],
   "source": [
    "# Print the dimension of df_val\n",
    "pd.DataFrame([[df_val.shape[0], df_val.shape[1]]], columns=['# rows', '# columns'])"
   ]
  },
  {
   "cell_type": "code",
   "execution_count": 13,
   "metadata": {
    "colab": {
     "base_uri": "https://localhost:8080/",
     "height": 80
    },
    "executionInfo": {
     "elapsed": 25345,
     "status": "ok",
     "timestamp": 1604370390344,
     "user": {
      "displayName": "Huang Yuxiao",
      "photoUrl": "",
      "userId": "05167076769245149404"
     },
     "user_tz": 300
    },
    "id": "J6HfL34uyJKy",
    "outputId": "0b11e5ce-1fe1-4ffa-c48e-1a4040c617a6",
    "scrolled": false
   },
   "outputs": [
    {
     "data": {
      "text/html": [
       "<div>\n",
       "<style scoped>\n",
       "    .dataframe tbody tr th:only-of-type {\n",
       "        vertical-align: middle;\n",
       "    }\n",
       "\n",
       "    .dataframe tbody tr th {\n",
       "        vertical-align: top;\n",
       "    }\n",
       "\n",
       "    .dataframe thead th {\n",
       "        text-align: right;\n",
       "    }\n",
       "</style>\n",
       "<table border=\"1\" class=\"dataframe\">\n",
       "  <thead>\n",
       "    <tr style=\"text-align: right;\">\n",
       "      <th></th>\n",
       "      <th># rows</th>\n",
       "      <th># columns</th>\n",
       "    </tr>\n",
       "  </thead>\n",
       "  <tbody>\n",
       "    <tr>\n",
       "      <th>0</th>\n",
       "      <td>171</td>\n",
       "      <td>32</td>\n",
       "    </tr>\n",
       "  </tbody>\n",
       "</table>\n",
       "</div>"
      ],
      "text/plain": [
       "   # rows  # columns\n",
       "0     171         32"
      ]
     },
     "execution_count": 13,
     "metadata": {
      "tags": []
     },
     "output_type": "execute_result"
    }
   ],
   "source": [
    "# Print the dimension of df_test\n",
    "pd.DataFrame([[df_test.shape[0], df_test.shape[1]]], columns=['# rows', '# columns'])"
   ]
  },
  {
   "cell_type": "markdown",
   "metadata": {
    "id": "0i88uPaRzlFV"
   },
   "source": [
    "### Step 1c: Handling patient identifiers"
   ]
  },
  {
   "cell_type": "markdown",
   "metadata": {
    "id": "W8-npdxxzlFV"
   },
   "source": [
    "#### Combining the training, validation and test data\n",
    "The code below shows how to combine the training, validation and test data."
   ]
  },
  {
   "cell_type": "code",
   "execution_count": 14,
   "metadata": {
    "executionInfo": {
     "elapsed": 25344,
     "status": "ok",
     "timestamp": 1604370390345,
     "user": {
      "displayName": "Huang Yuxiao",
      "photoUrl": "",
      "userId": "05167076769245149404"
     },
     "user_tz": 300
    },
    "id": "2djPwG2yzlFV"
   },
   "outputs": [],
   "source": [
    "# Combine df_train, df_val and df_test\n",
    "df = pd.concat([df_train, df_val, df_test], sort=False)"
   ]
  },
  {
   "cell_type": "markdown",
   "metadata": {
    "id": "lkVXIUx_zlFX"
   },
   "source": [
    "#### Identifying identifiers\n",
    "The code below shows how to find identifiers from data."
   ]
  },
  {
   "cell_type": "code",
   "execution_count": 15,
   "metadata": {
    "colab": {
     "base_uri": "https://localhost:8080/",
     "height": 204
    },
    "executionInfo": {
     "elapsed": 25321,
     "status": "ok",
     "timestamp": 1604370390345,
     "user": {
      "displayName": "Huang Yuxiao",
      "photoUrl": "",
      "userId": "05167076769245149404"
     },
     "user_tz": 300
    },
    "id": "m-MkTouVzlFX",
    "outputId": "fd16bd6b-b048-413e-8ca5-4a283e4ad879",
    "scrolled": false
   },
   "outputs": [
    {
     "data": {
      "text/html": [
       "<div>\n",
       "<style scoped>\n",
       "    .dataframe tbody tr th:only-of-type {\n",
       "        vertical-align: middle;\n",
       "    }\n",
       "\n",
       "    .dataframe tbody tr th {\n",
       "        vertical-align: top;\n",
       "    }\n",
       "\n",
       "    .dataframe thead th {\n",
       "        text-align: right;\n",
       "    }\n",
       "</style>\n",
       "<table border=\"1\" class=\"dataframe\">\n",
       "  <thead>\n",
       "    <tr style=\"text-align: right;\">\n",
       "      <th></th>\n",
       "      <th>id</th>\n",
       "    </tr>\n",
       "  </thead>\n",
       "  <tbody>\n",
       "    <tr>\n",
       "      <th>0</th>\n",
       "      <td>86208</td>\n",
       "    </tr>\n",
       "    <tr>\n",
       "      <th>1</th>\n",
       "      <td>855133</td>\n",
       "    </tr>\n",
       "    <tr>\n",
       "      <th>2</th>\n",
       "      <td>893988</td>\n",
       "    </tr>\n",
       "    <tr>\n",
       "      <th>3</th>\n",
       "      <td>903483</td>\n",
       "    </tr>\n",
       "    <tr>\n",
       "      <th>4</th>\n",
       "      <td>874373</td>\n",
       "    </tr>\n",
       "  </tbody>\n",
       "</table>\n",
       "</div>"
      ],
      "text/plain": [
       "       id\n",
       "0   86208\n",
       "1  855133\n",
       "2  893988\n",
       "3  903483\n",
       "4  874373"
      ]
     },
     "execution_count": 15,
     "metadata": {
      "tags": []
     },
     "output_type": "execute_result"
    }
   ],
   "source": [
    "# Call id_checker on df\n",
    "# See the implementation in pmlm_utilities.ipynb\n",
    "df_id = id_checker(df)\n",
    "\n",
    "# Print the first 5 rows of df_id\n",
    "df_id.head()"
   ]
  },
  {
   "cell_type": "markdown",
   "metadata": {
    "id": "OUqe6lsczlFZ"
   },
   "source": [
    "#### Removing identifiers\n",
    "The code below shows how to remove identifiers from data."
   ]
  },
  {
   "cell_type": "code",
   "execution_count": 16,
   "metadata": {
    "executionInfo": {
     "elapsed": 25321,
     "status": "ok",
     "timestamp": 1604370390346,
     "user": {
      "displayName": "Huang Yuxiao",
      "photoUrl": "",
      "userId": "05167076769245149404"
     },
     "user_tz": 300
    },
    "id": "mDli2hF0zlFZ",
    "scrolled": true
   },
   "outputs": [],
   "source": [
    "import numpy as np\n",
    "\n",
    "# Remove identifiers from df_train\n",
    "df_train.drop(columns=np.intersect1d(df_id.columns, df_train.columns), inplace=True)\n",
    "\n",
    "# Remove identifiers from df_val\n",
    "df_val.drop(columns=np.intersect1d(df_id.columns, df_val.columns), inplace=True)\n",
    "\n",
    "# Remove identifiers from df_test\n",
    "df_test.drop(columns=np.intersect1d(df_id.columns, df_test.columns), inplace=True)"
   ]
  },
  {
   "cell_type": "code",
   "execution_count": 17,
   "metadata": {
    "colab": {
     "base_uri": "https://localhost:8080/",
     "height": 241
    },
    "executionInfo": {
     "elapsed": 25299,
     "status": "ok",
     "timestamp": 1604370390348,
     "user": {
      "displayName": "Huang Yuxiao",
      "photoUrl": "",
      "userId": "05167076769245149404"
     },
     "user_tz": 300
    },
    "id": "RMG8QKFezlFc",
    "outputId": "49671fd5-9eb3-4869-b304-8a60be5943e7",
    "scrolled": false
   },
   "outputs": [
    {
     "data": {
      "text/html": [
       "<div>\n",
       "<style scoped>\n",
       "    .dataframe tbody tr th:only-of-type {\n",
       "        vertical-align: middle;\n",
       "    }\n",
       "\n",
       "    .dataframe tbody tr th {\n",
       "        vertical-align: top;\n",
       "    }\n",
       "\n",
       "    .dataframe thead th {\n",
       "        text-align: right;\n",
       "    }\n",
       "</style>\n",
       "<table border=\"1\" class=\"dataframe\">\n",
       "  <thead>\n",
       "    <tr style=\"text-align: right;\">\n",
       "      <th></th>\n",
       "      <th>diagnosis</th>\n",
       "      <th>radius_mean</th>\n",
       "      <th>texture_mean</th>\n",
       "      <th>perimeter_mean</th>\n",
       "      <th>area_mean</th>\n",
       "      <th>smoothness_mean</th>\n",
       "      <th>compactness_mean</th>\n",
       "      <th>concavity_mean</th>\n",
       "      <th>concave points_mean</th>\n",
       "      <th>symmetry_mean</th>\n",
       "      <th>fractal_dimension_mean</th>\n",
       "      <th>radius_se</th>\n",
       "      <th>texture_se</th>\n",
       "      <th>perimeter_se</th>\n",
       "      <th>area_se</th>\n",
       "      <th>smoothness_se</th>\n",
       "      <th>compactness_se</th>\n",
       "      <th>concavity_se</th>\n",
       "      <th>concave points_se</th>\n",
       "      <th>symmetry_se</th>\n",
       "      <th>fractal_dimension_se</th>\n",
       "      <th>radius_worst</th>\n",
       "      <th>texture_worst</th>\n",
       "      <th>perimeter_worst</th>\n",
       "      <th>area_worst</th>\n",
       "      <th>smoothness_worst</th>\n",
       "      <th>compactness_worst</th>\n",
       "      <th>concavity_worst</th>\n",
       "      <th>concave points_worst</th>\n",
       "      <th>symmetry_worst</th>\n",
       "      <th>fractal_dimension_worst</th>\n",
       "    </tr>\n",
       "  </thead>\n",
       "  <tbody>\n",
       "    <tr>\n",
       "      <th>0</th>\n",
       "      <td>M</td>\n",
       "      <td>20.260</td>\n",
       "      <td>23.03</td>\n",
       "      <td>132.40</td>\n",
       "      <td>1264.0</td>\n",
       "      <td>0.09078</td>\n",
       "      <td>0.13130</td>\n",
       "      <td>0.14650</td>\n",
       "      <td>0.086830</td>\n",
       "      <td>0.2095</td>\n",
       "      <td>0.05649</td>\n",
       "      <td>0.7576</td>\n",
       "      <td>1.5090</td>\n",
       "      <td>4.554</td>\n",
       "      <td>87.870</td>\n",
       "      <td>0.006016</td>\n",
       "      <td>0.034820</td>\n",
       "      <td>0.04232</td>\n",
       "      <td>0.012690</td>\n",
       "      <td>0.026570</td>\n",
       "      <td>0.004411</td>\n",
       "      <td>24.22</td>\n",
       "      <td>31.59</td>\n",
       "      <td>156.10</td>\n",
       "      <td>1750.0</td>\n",
       "      <td>0.11900</td>\n",
       "      <td>0.35390</td>\n",
       "      <td>0.40980</td>\n",
       "      <td>0.15730</td>\n",
       "      <td>0.3689</td>\n",
       "      <td>0.08368</td>\n",
       "    </tr>\n",
       "    <tr>\n",
       "      <th>1</th>\n",
       "      <td>M</td>\n",
       "      <td>14.990</td>\n",
       "      <td>25.20</td>\n",
       "      <td>95.54</td>\n",
       "      <td>698.8</td>\n",
       "      <td>0.09387</td>\n",
       "      <td>0.05131</td>\n",
       "      <td>0.02398</td>\n",
       "      <td>0.028990</td>\n",
       "      <td>0.1565</td>\n",
       "      <td>0.05504</td>\n",
       "      <td>1.2140</td>\n",
       "      <td>2.1880</td>\n",
       "      <td>8.077</td>\n",
       "      <td>106.000</td>\n",
       "      <td>0.006883</td>\n",
       "      <td>0.010940</td>\n",
       "      <td>0.01818</td>\n",
       "      <td>0.019170</td>\n",
       "      <td>0.007882</td>\n",
       "      <td>0.001754</td>\n",
       "      <td>14.99</td>\n",
       "      <td>25.20</td>\n",
       "      <td>95.54</td>\n",
       "      <td>698.8</td>\n",
       "      <td>0.09387</td>\n",
       "      <td>0.05131</td>\n",
       "      <td>0.02398</td>\n",
       "      <td>0.02899</td>\n",
       "      <td>0.1565</td>\n",
       "      <td>0.05504</td>\n",
       "    </tr>\n",
       "    <tr>\n",
       "      <th>2</th>\n",
       "      <td>B</td>\n",
       "      <td>11.540</td>\n",
       "      <td>10.72</td>\n",
       "      <td>73.73</td>\n",
       "      <td>409.1</td>\n",
       "      <td>0.08597</td>\n",
       "      <td>0.05969</td>\n",
       "      <td>0.01367</td>\n",
       "      <td>0.008907</td>\n",
       "      <td>0.1833</td>\n",
       "      <td>0.06100</td>\n",
       "      <td>0.1312</td>\n",
       "      <td>0.3602</td>\n",
       "      <td>1.107</td>\n",
       "      <td>9.438</td>\n",
       "      <td>0.004124</td>\n",
       "      <td>0.013400</td>\n",
       "      <td>0.01003</td>\n",
       "      <td>0.004667</td>\n",
       "      <td>0.020320</td>\n",
       "      <td>0.001952</td>\n",
       "      <td>12.34</td>\n",
       "      <td>12.87</td>\n",
       "      <td>81.23</td>\n",
       "      <td>467.8</td>\n",
       "      <td>0.10920</td>\n",
       "      <td>0.16260</td>\n",
       "      <td>0.08324</td>\n",
       "      <td>0.04715</td>\n",
       "      <td>0.3390</td>\n",
       "      <td>0.07434</td>\n",
       "    </tr>\n",
       "    <tr>\n",
       "      <th>3</th>\n",
       "      <td>B</td>\n",
       "      <td>8.734</td>\n",
       "      <td>16.84</td>\n",
       "      <td>55.27</td>\n",
       "      <td>234.3</td>\n",
       "      <td>0.10390</td>\n",
       "      <td>0.07428</td>\n",
       "      <td>0.00000</td>\n",
       "      <td>0.000000</td>\n",
       "      <td>0.1985</td>\n",
       "      <td>0.07098</td>\n",
       "      <td>0.5169</td>\n",
       "      <td>2.0790</td>\n",
       "      <td>3.167</td>\n",
       "      <td>28.850</td>\n",
       "      <td>0.015820</td>\n",
       "      <td>0.019660</td>\n",
       "      <td>0.00000</td>\n",
       "      <td>0.000000</td>\n",
       "      <td>0.018650</td>\n",
       "      <td>0.006736</td>\n",
       "      <td>10.17</td>\n",
       "      <td>22.80</td>\n",
       "      <td>64.01</td>\n",
       "      <td>317.0</td>\n",
       "      <td>0.14600</td>\n",
       "      <td>0.13100</td>\n",
       "      <td>0.00000</td>\n",
       "      <td>0.00000</td>\n",
       "      <td>0.2445</td>\n",
       "      <td>0.08865</td>\n",
       "    </tr>\n",
       "    <tr>\n",
       "      <th>4</th>\n",
       "      <td>B</td>\n",
       "      <td>11.710</td>\n",
       "      <td>17.19</td>\n",
       "      <td>74.68</td>\n",
       "      <td>420.3</td>\n",
       "      <td>0.09774</td>\n",
       "      <td>0.06141</td>\n",
       "      <td>0.03809</td>\n",
       "      <td>0.032390</td>\n",
       "      <td>0.1516</td>\n",
       "      <td>0.06095</td>\n",
       "      <td>0.2451</td>\n",
       "      <td>0.7655</td>\n",
       "      <td>1.742</td>\n",
       "      <td>17.860</td>\n",
       "      <td>0.006905</td>\n",
       "      <td>0.008704</td>\n",
       "      <td>0.01978</td>\n",
       "      <td>0.011850</td>\n",
       "      <td>0.018970</td>\n",
       "      <td>0.001671</td>\n",
       "      <td>13.01</td>\n",
       "      <td>21.39</td>\n",
       "      <td>84.42</td>\n",
       "      <td>521.5</td>\n",
       "      <td>0.13230</td>\n",
       "      <td>0.10400</td>\n",
       "      <td>0.15210</td>\n",
       "      <td>0.10990</td>\n",
       "      <td>0.2572</td>\n",
       "      <td>0.07097</td>\n",
       "    </tr>\n",
       "  </tbody>\n",
       "</table>\n",
       "</div>"
      ],
      "text/plain": [
       "  diagnosis  radius_mean  ...  symmetry_worst  fractal_dimension_worst\n",
       "0         M       20.260  ...          0.3689                  0.08368\n",
       "1         M       14.990  ...          0.1565                  0.05504\n",
       "2         B       11.540  ...          0.3390                  0.07434\n",
       "3         B        8.734  ...          0.2445                  0.08865\n",
       "4         B       11.710  ...          0.2572                  0.07097\n",
       "\n",
       "[5 rows x 31 columns]"
      ]
     },
     "execution_count": 17,
     "metadata": {
      "tags": []
     },
     "output_type": "execute_result"
    }
   ],
   "source": [
    "# Print the first 5 rows of df_train\n",
    "df_train.head()"
   ]
  },
  {
   "cell_type": "code",
   "execution_count": 18,
   "metadata": {
    "colab": {
     "base_uri": "https://localhost:8080/",
     "height": 241
    },
    "executionInfo": {
     "elapsed": 25277,
     "status": "ok",
     "timestamp": 1604370390349,
     "user": {
      "displayName": "Huang Yuxiao",
      "photoUrl": "",
      "userId": "05167076769245149404"
     },
     "user_tz": 300
    },
    "id": "Xk_c0vh8zlFe",
    "outputId": "7a92693d-5b1e-4e00-b919-976d6cb92df0",
    "scrolled": false
   },
   "outputs": [
    {
     "data": {
      "text/html": [
       "<div>\n",
       "<style scoped>\n",
       "    .dataframe tbody tr th:only-of-type {\n",
       "        vertical-align: middle;\n",
       "    }\n",
       "\n",
       "    .dataframe tbody tr th {\n",
       "        vertical-align: top;\n",
       "    }\n",
       "\n",
       "    .dataframe thead th {\n",
       "        text-align: right;\n",
       "    }\n",
       "</style>\n",
       "<table border=\"1\" class=\"dataframe\">\n",
       "  <thead>\n",
       "    <tr style=\"text-align: right;\">\n",
       "      <th></th>\n",
       "      <th>diagnosis</th>\n",
       "      <th>radius_mean</th>\n",
       "      <th>texture_mean</th>\n",
       "      <th>perimeter_mean</th>\n",
       "      <th>area_mean</th>\n",
       "      <th>smoothness_mean</th>\n",
       "      <th>compactness_mean</th>\n",
       "      <th>concavity_mean</th>\n",
       "      <th>concave points_mean</th>\n",
       "      <th>symmetry_mean</th>\n",
       "      <th>fractal_dimension_mean</th>\n",
       "      <th>radius_se</th>\n",
       "      <th>texture_se</th>\n",
       "      <th>perimeter_se</th>\n",
       "      <th>area_se</th>\n",
       "      <th>smoothness_se</th>\n",
       "      <th>compactness_se</th>\n",
       "      <th>concavity_se</th>\n",
       "      <th>concave points_se</th>\n",
       "      <th>symmetry_se</th>\n",
       "      <th>fractal_dimension_se</th>\n",
       "      <th>radius_worst</th>\n",
       "      <th>texture_worst</th>\n",
       "      <th>perimeter_worst</th>\n",
       "      <th>area_worst</th>\n",
       "      <th>smoothness_worst</th>\n",
       "      <th>compactness_worst</th>\n",
       "      <th>concavity_worst</th>\n",
       "      <th>concave points_worst</th>\n",
       "      <th>symmetry_worst</th>\n",
       "      <th>fractal_dimension_worst</th>\n",
       "    </tr>\n",
       "  </thead>\n",
       "  <tbody>\n",
       "    <tr>\n",
       "      <th>0</th>\n",
       "      <td>B</td>\n",
       "      <td>11.67</td>\n",
       "      <td>20.02</td>\n",
       "      <td>75.21</td>\n",
       "      <td>416.2</td>\n",
       "      <td>0.10160</td>\n",
       "      <td>0.09453</td>\n",
       "      <td>0.04200</td>\n",
       "      <td>0.02157</td>\n",
       "      <td>0.1859</td>\n",
       "      <td>0.06461</td>\n",
       "      <td>0.2067</td>\n",
       "      <td>0.8745</td>\n",
       "      <td>1.393</td>\n",
       "      <td>15.34</td>\n",
       "      <td>0.005251</td>\n",
       "      <td>0.01727</td>\n",
       "      <td>0.01840</td>\n",
       "      <td>0.005298</td>\n",
       "      <td>0.01449</td>\n",
       "      <td>0.002671</td>\n",
       "      <td>13.35</td>\n",
       "      <td>28.81</td>\n",
       "      <td>87.00</td>\n",
       "      <td>550.6</td>\n",
       "      <td>0.15500</td>\n",
       "      <td>0.2964</td>\n",
       "      <td>0.2758</td>\n",
       "      <td>0.08120</td>\n",
       "      <td>0.3206</td>\n",
       "      <td>0.08950</td>\n",
       "    </tr>\n",
       "    <tr>\n",
       "      <th>1</th>\n",
       "      <td>B</td>\n",
       "      <td>10.97</td>\n",
       "      <td>17.20</td>\n",
       "      <td>71.73</td>\n",
       "      <td>371.5</td>\n",
       "      <td>0.08915</td>\n",
       "      <td>0.11130</td>\n",
       "      <td>0.09457</td>\n",
       "      <td>0.03613</td>\n",
       "      <td>0.1489</td>\n",
       "      <td>0.06640</td>\n",
       "      <td>0.2574</td>\n",
       "      <td>1.3760</td>\n",
       "      <td>2.806</td>\n",
       "      <td>18.15</td>\n",
       "      <td>0.008565</td>\n",
       "      <td>0.04638</td>\n",
       "      <td>0.06430</td>\n",
       "      <td>0.017680</td>\n",
       "      <td>0.01516</td>\n",
       "      <td>0.004976</td>\n",
       "      <td>12.36</td>\n",
       "      <td>26.87</td>\n",
       "      <td>90.14</td>\n",
       "      <td>476.4</td>\n",
       "      <td>0.13910</td>\n",
       "      <td>0.4082</td>\n",
       "      <td>0.4779</td>\n",
       "      <td>0.15550</td>\n",
       "      <td>0.2540</td>\n",
       "      <td>0.09532</td>\n",
       "    </tr>\n",
       "    <tr>\n",
       "      <th>2</th>\n",
       "      <td>B</td>\n",
       "      <td>11.93</td>\n",
       "      <td>21.53</td>\n",
       "      <td>76.53</td>\n",
       "      <td>438.6</td>\n",
       "      <td>0.09768</td>\n",
       "      <td>0.07849</td>\n",
       "      <td>0.03328</td>\n",
       "      <td>0.02008</td>\n",
       "      <td>0.1688</td>\n",
       "      <td>0.06194</td>\n",
       "      <td>0.3118</td>\n",
       "      <td>0.9227</td>\n",
       "      <td>2.000</td>\n",
       "      <td>24.79</td>\n",
       "      <td>0.007803</td>\n",
       "      <td>0.02507</td>\n",
       "      <td>0.01835</td>\n",
       "      <td>0.007711</td>\n",
       "      <td>0.01278</td>\n",
       "      <td>0.003856</td>\n",
       "      <td>13.67</td>\n",
       "      <td>26.15</td>\n",
       "      <td>87.54</td>\n",
       "      <td>583.0</td>\n",
       "      <td>0.15000</td>\n",
       "      <td>0.2399</td>\n",
       "      <td>0.1503</td>\n",
       "      <td>0.07247</td>\n",
       "      <td>0.2438</td>\n",
       "      <td>0.08541</td>\n",
       "    </tr>\n",
       "    <tr>\n",
       "      <th>3</th>\n",
       "      <td>B</td>\n",
       "      <td>11.75</td>\n",
       "      <td>17.56</td>\n",
       "      <td>75.89</td>\n",
       "      <td>422.9</td>\n",
       "      <td>0.10730</td>\n",
       "      <td>0.09713</td>\n",
       "      <td>0.05282</td>\n",
       "      <td>0.04440</td>\n",
       "      <td>0.1598</td>\n",
       "      <td>0.06677</td>\n",
       "      <td>0.4384</td>\n",
       "      <td>1.9070</td>\n",
       "      <td>3.149</td>\n",
       "      <td>30.66</td>\n",
       "      <td>0.006587</td>\n",
       "      <td>0.01815</td>\n",
       "      <td>0.01737</td>\n",
       "      <td>0.013160</td>\n",
       "      <td>0.01835</td>\n",
       "      <td>0.002318</td>\n",
       "      <td>13.50</td>\n",
       "      <td>27.98</td>\n",
       "      <td>88.52</td>\n",
       "      <td>552.3</td>\n",
       "      <td>0.13490</td>\n",
       "      <td>0.1854</td>\n",
       "      <td>0.1366</td>\n",
       "      <td>0.10100</td>\n",
       "      <td>0.2478</td>\n",
       "      <td>0.07757</td>\n",
       "    </tr>\n",
       "    <tr>\n",
       "      <th>4</th>\n",
       "      <td>B</td>\n",
       "      <td>12.85</td>\n",
       "      <td>21.37</td>\n",
       "      <td>82.63</td>\n",
       "      <td>514.5</td>\n",
       "      <td>0.07551</td>\n",
       "      <td>0.08316</td>\n",
       "      <td>0.06126</td>\n",
       "      <td>0.01867</td>\n",
       "      <td>0.1580</td>\n",
       "      <td>0.06114</td>\n",
       "      <td>0.4993</td>\n",
       "      <td>1.7980</td>\n",
       "      <td>2.552</td>\n",
       "      <td>41.24</td>\n",
       "      <td>0.006011</td>\n",
       "      <td>0.04480</td>\n",
       "      <td>0.05175</td>\n",
       "      <td>0.013410</td>\n",
       "      <td>0.02669</td>\n",
       "      <td>0.007731</td>\n",
       "      <td>14.40</td>\n",
       "      <td>27.01</td>\n",
       "      <td>91.63</td>\n",
       "      <td>645.8</td>\n",
       "      <td>0.09402</td>\n",
       "      <td>0.1936</td>\n",
       "      <td>0.1838</td>\n",
       "      <td>0.05601</td>\n",
       "      <td>0.2488</td>\n",
       "      <td>0.08151</td>\n",
       "    </tr>\n",
       "  </tbody>\n",
       "</table>\n",
       "</div>"
      ],
      "text/plain": [
       "  diagnosis  radius_mean  ...  symmetry_worst  fractal_dimension_worst\n",
       "0         B        11.67  ...          0.3206                  0.08950\n",
       "1         B        10.97  ...          0.2540                  0.09532\n",
       "2         B        11.93  ...          0.2438                  0.08541\n",
       "3         B        11.75  ...          0.2478                  0.07757\n",
       "4         B        12.85  ...          0.2488                  0.08151\n",
       "\n",
       "[5 rows x 31 columns]"
      ]
     },
     "execution_count": 18,
     "metadata": {
      "tags": []
     },
     "output_type": "execute_result"
    }
   ],
   "source": [
    "# Print the first 5 rows of df_val\n",
    "df_val.head()"
   ]
  },
  {
   "cell_type": "code",
   "execution_count": 19,
   "metadata": {
    "colab": {
     "base_uri": "https://localhost:8080/",
     "height": 241
    },
    "executionInfo": {
     "elapsed": 25253,
     "status": "ok",
     "timestamp": 1604370390349,
     "user": {
      "displayName": "Huang Yuxiao",
      "photoUrl": "",
      "userId": "05167076769245149404"
     },
     "user_tz": 300
    },
    "id": "ib3DKH0DzlFg",
    "outputId": "3218cac5-e8d1-4ae3-d306-52eac3b37d94",
    "scrolled": false
   },
   "outputs": [
    {
     "data": {
      "text/html": [
       "<div>\n",
       "<style scoped>\n",
       "    .dataframe tbody tr th:only-of-type {\n",
       "        vertical-align: middle;\n",
       "    }\n",
       "\n",
       "    .dataframe tbody tr th {\n",
       "        vertical-align: top;\n",
       "    }\n",
       "\n",
       "    .dataframe thead th {\n",
       "        text-align: right;\n",
       "    }\n",
       "</style>\n",
       "<table border=\"1\" class=\"dataframe\">\n",
       "  <thead>\n",
       "    <tr style=\"text-align: right;\">\n",
       "      <th></th>\n",
       "      <th>diagnosis</th>\n",
       "      <th>radius_mean</th>\n",
       "      <th>texture_mean</th>\n",
       "      <th>perimeter_mean</th>\n",
       "      <th>area_mean</th>\n",
       "      <th>smoothness_mean</th>\n",
       "      <th>compactness_mean</th>\n",
       "      <th>concavity_mean</th>\n",
       "      <th>concave points_mean</th>\n",
       "      <th>symmetry_mean</th>\n",
       "      <th>fractal_dimension_mean</th>\n",
       "      <th>radius_se</th>\n",
       "      <th>texture_se</th>\n",
       "      <th>perimeter_se</th>\n",
       "      <th>area_se</th>\n",
       "      <th>smoothness_se</th>\n",
       "      <th>compactness_se</th>\n",
       "      <th>concavity_se</th>\n",
       "      <th>concave points_se</th>\n",
       "      <th>symmetry_se</th>\n",
       "      <th>fractal_dimension_se</th>\n",
       "      <th>radius_worst</th>\n",
       "      <th>texture_worst</th>\n",
       "      <th>perimeter_worst</th>\n",
       "      <th>area_worst</th>\n",
       "      <th>smoothness_worst</th>\n",
       "      <th>compactness_worst</th>\n",
       "      <th>concavity_worst</th>\n",
       "      <th>concave points_worst</th>\n",
       "      <th>symmetry_worst</th>\n",
       "      <th>fractal_dimension_worst</th>\n",
       "    </tr>\n",
       "  </thead>\n",
       "  <tbody>\n",
       "    <tr>\n",
       "      <th>0</th>\n",
       "      <td>B</td>\n",
       "      <td>11.68</td>\n",
       "      <td>16.17</td>\n",
       "      <td>75.49</td>\n",
       "      <td>420.5</td>\n",
       "      <td>0.11280</td>\n",
       "      <td>0.09263</td>\n",
       "      <td>0.042790</td>\n",
       "      <td>0.031320</td>\n",
       "      <td>0.1853</td>\n",
       "      <td>0.06401</td>\n",
       "      <td>0.3713</td>\n",
       "      <td>1.1540</td>\n",
       "      <td>2.554</td>\n",
       "      <td>27.57</td>\n",
       "      <td>0.008998</td>\n",
       "      <td>0.012920</td>\n",
       "      <td>0.01851</td>\n",
       "      <td>0.011670</td>\n",
       "      <td>0.02152</td>\n",
       "      <td>0.003213</td>\n",
       "      <td>13.32</td>\n",
       "      <td>21.59</td>\n",
       "      <td>86.57</td>\n",
       "      <td>549.8</td>\n",
       "      <td>0.15260</td>\n",
       "      <td>0.14770</td>\n",
       "      <td>0.14900</td>\n",
       "      <td>0.09815</td>\n",
       "      <td>0.2804</td>\n",
       "      <td>0.08024</td>\n",
       "    </tr>\n",
       "    <tr>\n",
       "      <th>1</th>\n",
       "      <td>B</td>\n",
       "      <td>13.50</td>\n",
       "      <td>12.71</td>\n",
       "      <td>85.69</td>\n",
       "      <td>566.2</td>\n",
       "      <td>0.07376</td>\n",
       "      <td>0.03614</td>\n",
       "      <td>0.002758</td>\n",
       "      <td>0.004419</td>\n",
       "      <td>0.1365</td>\n",
       "      <td>0.05335</td>\n",
       "      <td>0.2244</td>\n",
       "      <td>0.6864</td>\n",
       "      <td>1.509</td>\n",
       "      <td>20.39</td>\n",
       "      <td>0.003338</td>\n",
       "      <td>0.003746</td>\n",
       "      <td>0.00203</td>\n",
       "      <td>0.003242</td>\n",
       "      <td>0.01480</td>\n",
       "      <td>0.001566</td>\n",
       "      <td>14.97</td>\n",
       "      <td>16.94</td>\n",
       "      <td>95.48</td>\n",
       "      <td>698.7</td>\n",
       "      <td>0.09023</td>\n",
       "      <td>0.05836</td>\n",
       "      <td>0.01379</td>\n",
       "      <td>0.02210</td>\n",
       "      <td>0.2267</td>\n",
       "      <td>0.06192</td>\n",
       "    </tr>\n",
       "    <tr>\n",
       "      <th>2</th>\n",
       "      <td>B</td>\n",
       "      <td>12.75</td>\n",
       "      <td>16.70</td>\n",
       "      <td>82.51</td>\n",
       "      <td>493.8</td>\n",
       "      <td>0.11250</td>\n",
       "      <td>0.11170</td>\n",
       "      <td>0.038800</td>\n",
       "      <td>0.029950</td>\n",
       "      <td>0.2120</td>\n",
       "      <td>0.06623</td>\n",
       "      <td>0.3834</td>\n",
       "      <td>1.0030</td>\n",
       "      <td>2.495</td>\n",
       "      <td>28.62</td>\n",
       "      <td>0.007509</td>\n",
       "      <td>0.015610</td>\n",
       "      <td>0.01977</td>\n",
       "      <td>0.009199</td>\n",
       "      <td>0.01805</td>\n",
       "      <td>0.003629</td>\n",
       "      <td>14.45</td>\n",
       "      <td>21.74</td>\n",
       "      <td>93.63</td>\n",
       "      <td>624.1</td>\n",
       "      <td>0.14750</td>\n",
       "      <td>0.19790</td>\n",
       "      <td>0.14230</td>\n",
       "      <td>0.08045</td>\n",
       "      <td>0.3071</td>\n",
       "      <td>0.08557</td>\n",
       "    </tr>\n",
       "    <tr>\n",
       "      <th>3</th>\n",
       "      <td>M</td>\n",
       "      <td>18.94</td>\n",
       "      <td>21.31</td>\n",
       "      <td>123.60</td>\n",
       "      <td>1130.0</td>\n",
       "      <td>0.09009</td>\n",
       "      <td>0.10290</td>\n",
       "      <td>0.108000</td>\n",
       "      <td>0.079510</td>\n",
       "      <td>0.1582</td>\n",
       "      <td>0.05461</td>\n",
       "      <td>0.7888</td>\n",
       "      <td>0.7975</td>\n",
       "      <td>5.486</td>\n",
       "      <td>96.05</td>\n",
       "      <td>0.004444</td>\n",
       "      <td>0.016520</td>\n",
       "      <td>0.02269</td>\n",
       "      <td>0.013700</td>\n",
       "      <td>0.01386</td>\n",
       "      <td>0.001698</td>\n",
       "      <td>24.86</td>\n",
       "      <td>26.58</td>\n",
       "      <td>165.90</td>\n",
       "      <td>1866.0</td>\n",
       "      <td>0.11930</td>\n",
       "      <td>0.23360</td>\n",
       "      <td>0.26870</td>\n",
       "      <td>0.17890</td>\n",
       "      <td>0.2551</td>\n",
       "      <td>0.06589</td>\n",
       "    </tr>\n",
       "    <tr>\n",
       "      <th>4</th>\n",
       "      <td>M</td>\n",
       "      <td>17.30</td>\n",
       "      <td>17.08</td>\n",
       "      <td>113.00</td>\n",
       "      <td>928.2</td>\n",
       "      <td>0.10080</td>\n",
       "      <td>0.10410</td>\n",
       "      <td>0.126600</td>\n",
       "      <td>0.083530</td>\n",
       "      <td>0.1813</td>\n",
       "      <td>0.05613</td>\n",
       "      <td>0.3093</td>\n",
       "      <td>0.8568</td>\n",
       "      <td>2.193</td>\n",
       "      <td>33.63</td>\n",
       "      <td>0.004757</td>\n",
       "      <td>0.015030</td>\n",
       "      <td>0.02332</td>\n",
       "      <td>0.012620</td>\n",
       "      <td>0.01394</td>\n",
       "      <td>0.002362</td>\n",
       "      <td>19.85</td>\n",
       "      <td>25.09</td>\n",
       "      <td>130.90</td>\n",
       "      <td>1222.0</td>\n",
       "      <td>0.14160</td>\n",
       "      <td>0.24050</td>\n",
       "      <td>0.33780</td>\n",
       "      <td>0.18570</td>\n",
       "      <td>0.3138</td>\n",
       "      <td>0.08113</td>\n",
       "    </tr>\n",
       "  </tbody>\n",
       "</table>\n",
       "</div>"
      ],
      "text/plain": [
       "  diagnosis  radius_mean  ...  symmetry_worst  fractal_dimension_worst\n",
       "0         B        11.68  ...          0.2804                  0.08024\n",
       "1         B        13.50  ...          0.2267                  0.06192\n",
       "2         B        12.75  ...          0.3071                  0.08557\n",
       "3         M        18.94  ...          0.2551                  0.06589\n",
       "4         M        17.30  ...          0.3138                  0.08113\n",
       "\n",
       "[5 rows x 31 columns]"
      ]
     },
     "execution_count": 19,
     "metadata": {
      "tags": []
     },
     "output_type": "execute_result"
    }
   ],
   "source": [
    "# Print the first 5 rows of df_test\n",
    "df_test.head()"
   ]
  },
  {
   "cell_type": "markdown",
   "metadata": {
    "id": "HWcUkrUCzlFv"
   },
   "source": [
    "### Step 1d: Encoding the data"
   ]
  },
  {
   "cell_type": "markdown",
   "metadata": {
    "id": "ezQ07Z9dzlFv"
   },
   "source": [
    "#### Combining the training, validation and test data\n",
    "The code below shows how to combine the training, validation and test data."
   ]
  },
  {
   "cell_type": "code",
   "execution_count": 20,
   "metadata": {
    "colab": {
     "base_uri": "https://localhost:8080/",
     "height": 111
    },
    "executionInfo": {
     "elapsed": 25231,
     "status": "ok",
     "timestamp": 1604370390350,
     "user": {
      "displayName": "Huang Yuxiao",
      "photoUrl": "",
      "userId": "05167076769245149404"
     },
     "user_tz": 300
    },
    "id": "fYrsGD60zlFv",
    "outputId": "fcccc3d2-345c-49bb-f5aa-01d1e4c824be",
    "scrolled": true
   },
   "outputs": [
    {
     "data": {
      "text/html": [
       "<div>\n",
       "<style scoped>\n",
       "    .dataframe tbody tr th:only-of-type {\n",
       "        vertical-align: middle;\n",
       "    }\n",
       "\n",
       "    .dataframe tbody tr th {\n",
       "        vertical-align: top;\n",
       "    }\n",
       "\n",
       "    .dataframe thead th {\n",
       "        text-align: right;\n",
       "    }\n",
       "</style>\n",
       "<table border=\"1\" class=\"dataframe\">\n",
       "  <thead>\n",
       "    <tr style=\"text-align: right;\">\n",
       "      <th></th>\n",
       "      <th>dtype</th>\n",
       "    </tr>\n",
       "  </thead>\n",
       "  <tbody>\n",
       "    <tr>\n",
       "      <th>0</th>\n",
       "      <td>object</td>\n",
       "    </tr>\n",
       "    <tr>\n",
       "      <th>1</th>\n",
       "      <td>float64</td>\n",
       "    </tr>\n",
       "  </tbody>\n",
       "</table>\n",
       "</div>"
      ],
      "text/plain": [
       "     dtype\n",
       "0   object\n",
       "1  float64"
      ]
     },
     "execution_count": 20,
     "metadata": {
      "tags": []
     },
     "output_type": "execute_result"
    }
   ],
   "source": [
    "# Combine df_train, df_val and df_test\n",
    "df = pd.concat([df_train, df_val, df_test], sort=False)\n",
    "\n",
    "# Print the unique data type of variables in df\n",
    "pd.DataFrame(df.dtypes.unique(), columns=['dtype'])"
   ]
  },
  {
   "cell_type": "markdown",
   "metadata": {
    "id": "4qr55-jtzlFw"
   },
   "source": [
    "#### Identifying categorical variables"
   ]
  },
  {
   "cell_type": "markdown",
   "metadata": {
    "id": "1rNrzzadzlFx"
   },
   "source": [
    "The code below shows how to find categorical variables (whose data type is dtype) and their number of unique value."
   ]
  },
  {
   "cell_type": "code",
   "execution_count": 21,
   "metadata": {
    "colab": {
     "base_uri": "https://localhost:8080/",
     "height": 80
    },
    "executionInfo": {
     "elapsed": 25208,
     "status": "ok",
     "timestamp": 1604370390350,
     "user": {
      "displayName": "Huang Yuxiao",
      "photoUrl": "",
      "userId": "05167076769245149404"
     },
     "user_tz": 300
    },
    "id": "bguGxquQzlFx",
    "outputId": "6017bf05-8195-4e10-d4e6-8261a6b49ec6",
    "scrolled": true
   },
   "outputs": [
    {
     "data": {
      "text/html": [
       "<div>\n",
       "<style scoped>\n",
       "    .dataframe tbody tr th:only-of-type {\n",
       "        vertical-align: middle;\n",
       "    }\n",
       "\n",
       "    .dataframe tbody tr th {\n",
       "        vertical-align: top;\n",
       "    }\n",
       "\n",
       "    .dataframe thead th {\n",
       "        text-align: right;\n",
       "    }\n",
       "</style>\n",
       "<table border=\"1\" class=\"dataframe\">\n",
       "  <thead>\n",
       "    <tr style=\"text-align: right;\">\n",
       "      <th></th>\n",
       "      <th>var</th>\n",
       "      <th>nunique</th>\n",
       "    </tr>\n",
       "  </thead>\n",
       "  <tbody>\n",
       "    <tr>\n",
       "      <th>0</th>\n",
       "      <td>diagnosis</td>\n",
       "      <td>2</td>\n",
       "    </tr>\n",
       "  </tbody>\n",
       "</table>\n",
       "</div>"
      ],
      "text/plain": [
       "         var  nunique\n",
       "0  diagnosis        2"
      ]
     },
     "execution_count": 21,
     "metadata": {
      "tags": []
     },
     "output_type": "execute_result"
    }
   ],
   "source": [
    "# Call cat_var_checker on df\n",
    "# See the implementation in pmlm_utilities.ipynb\n",
    "df_cat = cat_var_checker(df)\n",
    "\n",
    "# Print the dataframe\n",
    "df_cat"
   ]
  },
  {
   "cell_type": "markdown",
   "metadata": {
    "id": "hFantdOvzlFy"
   },
   "source": [
    "#### Encoding categorical features\n",
    "The code below shows how to encode categorical features in the combined data."
   ]
  },
  {
   "cell_type": "code",
   "execution_count": 22,
   "metadata": {
    "colab": {
     "base_uri": "https://localhost:8080/",
     "height": 241
    },
    "executionInfo": {
     "elapsed": 25184,
     "status": "ok",
     "timestamp": 1604370390350,
     "user": {
      "displayName": "Huang Yuxiao",
      "photoUrl": "",
      "userId": "05167076769245149404"
     },
     "user_tz": 300
    },
    "id": "VHiPUWGqzlFy",
    "outputId": "1a96d9dd-d42e-4440-b4c1-28018c0de0a0",
    "scrolled": false
   },
   "outputs": [
    {
     "data": {
      "text/html": [
       "<div>\n",
       "<style scoped>\n",
       "    .dataframe tbody tr th:only-of-type {\n",
       "        vertical-align: middle;\n",
       "    }\n",
       "\n",
       "    .dataframe tbody tr th {\n",
       "        vertical-align: top;\n",
       "    }\n",
       "\n",
       "    .dataframe thead th {\n",
       "        text-align: right;\n",
       "    }\n",
       "</style>\n",
       "<table border=\"1\" class=\"dataframe\">\n",
       "  <thead>\n",
       "    <tr style=\"text-align: right;\">\n",
       "      <th></th>\n",
       "      <th>diagnosis</th>\n",
       "      <th>radius_mean</th>\n",
       "      <th>texture_mean</th>\n",
       "      <th>perimeter_mean</th>\n",
       "      <th>area_mean</th>\n",
       "      <th>smoothness_mean</th>\n",
       "      <th>compactness_mean</th>\n",
       "      <th>concavity_mean</th>\n",
       "      <th>concave points_mean</th>\n",
       "      <th>symmetry_mean</th>\n",
       "      <th>fractal_dimension_mean</th>\n",
       "      <th>radius_se</th>\n",
       "      <th>texture_se</th>\n",
       "      <th>perimeter_se</th>\n",
       "      <th>area_se</th>\n",
       "      <th>smoothness_se</th>\n",
       "      <th>compactness_se</th>\n",
       "      <th>concavity_se</th>\n",
       "      <th>concave points_se</th>\n",
       "      <th>symmetry_se</th>\n",
       "      <th>fractal_dimension_se</th>\n",
       "      <th>radius_worst</th>\n",
       "      <th>texture_worst</th>\n",
       "      <th>perimeter_worst</th>\n",
       "      <th>area_worst</th>\n",
       "      <th>smoothness_worst</th>\n",
       "      <th>compactness_worst</th>\n",
       "      <th>concavity_worst</th>\n",
       "      <th>concave points_worst</th>\n",
       "      <th>symmetry_worst</th>\n",
       "      <th>fractal_dimension_worst</th>\n",
       "    </tr>\n",
       "  </thead>\n",
       "  <tbody>\n",
       "    <tr>\n",
       "      <th>0</th>\n",
       "      <td>M</td>\n",
       "      <td>20.260</td>\n",
       "      <td>23.03</td>\n",
       "      <td>132.40</td>\n",
       "      <td>1264.0</td>\n",
       "      <td>0.09078</td>\n",
       "      <td>0.13130</td>\n",
       "      <td>0.14650</td>\n",
       "      <td>0.086830</td>\n",
       "      <td>0.2095</td>\n",
       "      <td>0.05649</td>\n",
       "      <td>0.7576</td>\n",
       "      <td>1.5090</td>\n",
       "      <td>4.554</td>\n",
       "      <td>87.870</td>\n",
       "      <td>0.006016</td>\n",
       "      <td>0.034820</td>\n",
       "      <td>0.04232</td>\n",
       "      <td>0.012690</td>\n",
       "      <td>0.026570</td>\n",
       "      <td>0.004411</td>\n",
       "      <td>24.22</td>\n",
       "      <td>31.59</td>\n",
       "      <td>156.10</td>\n",
       "      <td>1750.0</td>\n",
       "      <td>0.11900</td>\n",
       "      <td>0.35390</td>\n",
       "      <td>0.40980</td>\n",
       "      <td>0.15730</td>\n",
       "      <td>0.3689</td>\n",
       "      <td>0.08368</td>\n",
       "    </tr>\n",
       "    <tr>\n",
       "      <th>1</th>\n",
       "      <td>M</td>\n",
       "      <td>14.990</td>\n",
       "      <td>25.20</td>\n",
       "      <td>95.54</td>\n",
       "      <td>698.8</td>\n",
       "      <td>0.09387</td>\n",
       "      <td>0.05131</td>\n",
       "      <td>0.02398</td>\n",
       "      <td>0.028990</td>\n",
       "      <td>0.1565</td>\n",
       "      <td>0.05504</td>\n",
       "      <td>1.2140</td>\n",
       "      <td>2.1880</td>\n",
       "      <td>8.077</td>\n",
       "      <td>106.000</td>\n",
       "      <td>0.006883</td>\n",
       "      <td>0.010940</td>\n",
       "      <td>0.01818</td>\n",
       "      <td>0.019170</td>\n",
       "      <td>0.007882</td>\n",
       "      <td>0.001754</td>\n",
       "      <td>14.99</td>\n",
       "      <td>25.20</td>\n",
       "      <td>95.54</td>\n",
       "      <td>698.8</td>\n",
       "      <td>0.09387</td>\n",
       "      <td>0.05131</td>\n",
       "      <td>0.02398</td>\n",
       "      <td>0.02899</td>\n",
       "      <td>0.1565</td>\n",
       "      <td>0.05504</td>\n",
       "    </tr>\n",
       "    <tr>\n",
       "      <th>2</th>\n",
       "      <td>B</td>\n",
       "      <td>11.540</td>\n",
       "      <td>10.72</td>\n",
       "      <td>73.73</td>\n",
       "      <td>409.1</td>\n",
       "      <td>0.08597</td>\n",
       "      <td>0.05969</td>\n",
       "      <td>0.01367</td>\n",
       "      <td>0.008907</td>\n",
       "      <td>0.1833</td>\n",
       "      <td>0.06100</td>\n",
       "      <td>0.1312</td>\n",
       "      <td>0.3602</td>\n",
       "      <td>1.107</td>\n",
       "      <td>9.438</td>\n",
       "      <td>0.004124</td>\n",
       "      <td>0.013400</td>\n",
       "      <td>0.01003</td>\n",
       "      <td>0.004667</td>\n",
       "      <td>0.020320</td>\n",
       "      <td>0.001952</td>\n",
       "      <td>12.34</td>\n",
       "      <td>12.87</td>\n",
       "      <td>81.23</td>\n",
       "      <td>467.8</td>\n",
       "      <td>0.10920</td>\n",
       "      <td>0.16260</td>\n",
       "      <td>0.08324</td>\n",
       "      <td>0.04715</td>\n",
       "      <td>0.3390</td>\n",
       "      <td>0.07434</td>\n",
       "    </tr>\n",
       "    <tr>\n",
       "      <th>3</th>\n",
       "      <td>B</td>\n",
       "      <td>8.734</td>\n",
       "      <td>16.84</td>\n",
       "      <td>55.27</td>\n",
       "      <td>234.3</td>\n",
       "      <td>0.10390</td>\n",
       "      <td>0.07428</td>\n",
       "      <td>0.00000</td>\n",
       "      <td>0.000000</td>\n",
       "      <td>0.1985</td>\n",
       "      <td>0.07098</td>\n",
       "      <td>0.5169</td>\n",
       "      <td>2.0790</td>\n",
       "      <td>3.167</td>\n",
       "      <td>28.850</td>\n",
       "      <td>0.015820</td>\n",
       "      <td>0.019660</td>\n",
       "      <td>0.00000</td>\n",
       "      <td>0.000000</td>\n",
       "      <td>0.018650</td>\n",
       "      <td>0.006736</td>\n",
       "      <td>10.17</td>\n",
       "      <td>22.80</td>\n",
       "      <td>64.01</td>\n",
       "      <td>317.0</td>\n",
       "      <td>0.14600</td>\n",
       "      <td>0.13100</td>\n",
       "      <td>0.00000</td>\n",
       "      <td>0.00000</td>\n",
       "      <td>0.2445</td>\n",
       "      <td>0.08865</td>\n",
       "    </tr>\n",
       "    <tr>\n",
       "      <th>4</th>\n",
       "      <td>B</td>\n",
       "      <td>11.710</td>\n",
       "      <td>17.19</td>\n",
       "      <td>74.68</td>\n",
       "      <td>420.3</td>\n",
       "      <td>0.09774</td>\n",
       "      <td>0.06141</td>\n",
       "      <td>0.03809</td>\n",
       "      <td>0.032390</td>\n",
       "      <td>0.1516</td>\n",
       "      <td>0.06095</td>\n",
       "      <td>0.2451</td>\n",
       "      <td>0.7655</td>\n",
       "      <td>1.742</td>\n",
       "      <td>17.860</td>\n",
       "      <td>0.006905</td>\n",
       "      <td>0.008704</td>\n",
       "      <td>0.01978</td>\n",
       "      <td>0.011850</td>\n",
       "      <td>0.018970</td>\n",
       "      <td>0.001671</td>\n",
       "      <td>13.01</td>\n",
       "      <td>21.39</td>\n",
       "      <td>84.42</td>\n",
       "      <td>521.5</td>\n",
       "      <td>0.13230</td>\n",
       "      <td>0.10400</td>\n",
       "      <td>0.15210</td>\n",
       "      <td>0.10990</td>\n",
       "      <td>0.2572</td>\n",
       "      <td>0.07097</td>\n",
       "    </tr>\n",
       "  </tbody>\n",
       "</table>\n",
       "</div>"
      ],
      "text/plain": [
       "  diagnosis  radius_mean  ...  symmetry_worst  fractal_dimension_worst\n",
       "0         M       20.260  ...          0.3689                  0.08368\n",
       "1         M       14.990  ...          0.1565                  0.05504\n",
       "2         B       11.540  ...          0.3390                  0.07434\n",
       "3         B        8.734  ...          0.2445                  0.08865\n",
       "4         B       11.710  ...          0.2572                  0.07097\n",
       "\n",
       "[5 rows x 31 columns]"
      ]
     },
     "execution_count": 22,
     "metadata": {
      "tags": []
     },
     "output_type": "execute_result"
    }
   ],
   "source": [
    "# One-hot-encode the categorical features in the combined data\n",
    "df = pd.get_dummies(df, columns=np.setdiff1d(df_cat['var'], [target]))\n",
    "\n",
    "# Print the first 5 rows of df\n",
    "df.head()"
   ]
  },
  {
   "cell_type": "markdown",
   "metadata": {
    "id": "0eSAn1mjyJLS"
   },
   "source": [
    "#### Encoding categorical target\n",
    "The code below shows how to encode categorical target in the combined data."
   ]
  },
  {
   "cell_type": "code",
   "execution_count": 23,
   "metadata": {
    "colab": {
     "base_uri": "https://localhost:8080/",
     "height": 241
    },
    "executionInfo": {
     "elapsed": 25162,
     "status": "ok",
     "timestamp": 1604370390351,
     "user": {
      "displayName": "Huang Yuxiao",
      "photoUrl": "",
      "userId": "05167076769245149404"
     },
     "user_tz": 300
    },
    "id": "ivjkBW9FyJLT",
    "outputId": "c1899b5a-6daa-4a0d-a75e-12076ff47fb8",
    "scrolled": false
   },
   "outputs": [
    {
     "data": {
      "text/html": [
       "<div>\n",
       "<style scoped>\n",
       "    .dataframe tbody tr th:only-of-type {\n",
       "        vertical-align: middle;\n",
       "    }\n",
       "\n",
       "    .dataframe tbody tr th {\n",
       "        vertical-align: top;\n",
       "    }\n",
       "\n",
       "    .dataframe thead th {\n",
       "        text-align: right;\n",
       "    }\n",
       "</style>\n",
       "<table border=\"1\" class=\"dataframe\">\n",
       "  <thead>\n",
       "    <tr style=\"text-align: right;\">\n",
       "      <th></th>\n",
       "      <th>diagnosis</th>\n",
       "      <th>radius_mean</th>\n",
       "      <th>texture_mean</th>\n",
       "      <th>perimeter_mean</th>\n",
       "      <th>area_mean</th>\n",
       "      <th>smoothness_mean</th>\n",
       "      <th>compactness_mean</th>\n",
       "      <th>concavity_mean</th>\n",
       "      <th>concave points_mean</th>\n",
       "      <th>symmetry_mean</th>\n",
       "      <th>fractal_dimension_mean</th>\n",
       "      <th>radius_se</th>\n",
       "      <th>texture_se</th>\n",
       "      <th>perimeter_se</th>\n",
       "      <th>area_se</th>\n",
       "      <th>smoothness_se</th>\n",
       "      <th>compactness_se</th>\n",
       "      <th>concavity_se</th>\n",
       "      <th>concave points_se</th>\n",
       "      <th>symmetry_se</th>\n",
       "      <th>fractal_dimension_se</th>\n",
       "      <th>radius_worst</th>\n",
       "      <th>texture_worst</th>\n",
       "      <th>perimeter_worst</th>\n",
       "      <th>area_worst</th>\n",
       "      <th>smoothness_worst</th>\n",
       "      <th>compactness_worst</th>\n",
       "      <th>concavity_worst</th>\n",
       "      <th>concave points_worst</th>\n",
       "      <th>symmetry_worst</th>\n",
       "      <th>fractal_dimension_worst</th>\n",
       "    </tr>\n",
       "  </thead>\n",
       "  <tbody>\n",
       "    <tr>\n",
       "      <th>0</th>\n",
       "      <td>1</td>\n",
       "      <td>20.260</td>\n",
       "      <td>23.03</td>\n",
       "      <td>132.40</td>\n",
       "      <td>1264.0</td>\n",
       "      <td>0.09078</td>\n",
       "      <td>0.13130</td>\n",
       "      <td>0.14650</td>\n",
       "      <td>0.086830</td>\n",
       "      <td>0.2095</td>\n",
       "      <td>0.05649</td>\n",
       "      <td>0.7576</td>\n",
       "      <td>1.5090</td>\n",
       "      <td>4.554</td>\n",
       "      <td>87.870</td>\n",
       "      <td>0.006016</td>\n",
       "      <td>0.034820</td>\n",
       "      <td>0.04232</td>\n",
       "      <td>0.012690</td>\n",
       "      <td>0.026570</td>\n",
       "      <td>0.004411</td>\n",
       "      <td>24.22</td>\n",
       "      <td>31.59</td>\n",
       "      <td>156.10</td>\n",
       "      <td>1750.0</td>\n",
       "      <td>0.11900</td>\n",
       "      <td>0.35390</td>\n",
       "      <td>0.40980</td>\n",
       "      <td>0.15730</td>\n",
       "      <td>0.3689</td>\n",
       "      <td>0.08368</td>\n",
       "    </tr>\n",
       "    <tr>\n",
       "      <th>1</th>\n",
       "      <td>1</td>\n",
       "      <td>14.990</td>\n",
       "      <td>25.20</td>\n",
       "      <td>95.54</td>\n",
       "      <td>698.8</td>\n",
       "      <td>0.09387</td>\n",
       "      <td>0.05131</td>\n",
       "      <td>0.02398</td>\n",
       "      <td>0.028990</td>\n",
       "      <td>0.1565</td>\n",
       "      <td>0.05504</td>\n",
       "      <td>1.2140</td>\n",
       "      <td>2.1880</td>\n",
       "      <td>8.077</td>\n",
       "      <td>106.000</td>\n",
       "      <td>0.006883</td>\n",
       "      <td>0.010940</td>\n",
       "      <td>0.01818</td>\n",
       "      <td>0.019170</td>\n",
       "      <td>0.007882</td>\n",
       "      <td>0.001754</td>\n",
       "      <td>14.99</td>\n",
       "      <td>25.20</td>\n",
       "      <td>95.54</td>\n",
       "      <td>698.8</td>\n",
       "      <td>0.09387</td>\n",
       "      <td>0.05131</td>\n",
       "      <td>0.02398</td>\n",
       "      <td>0.02899</td>\n",
       "      <td>0.1565</td>\n",
       "      <td>0.05504</td>\n",
       "    </tr>\n",
       "    <tr>\n",
       "      <th>2</th>\n",
       "      <td>0</td>\n",
       "      <td>11.540</td>\n",
       "      <td>10.72</td>\n",
       "      <td>73.73</td>\n",
       "      <td>409.1</td>\n",
       "      <td>0.08597</td>\n",
       "      <td>0.05969</td>\n",
       "      <td>0.01367</td>\n",
       "      <td>0.008907</td>\n",
       "      <td>0.1833</td>\n",
       "      <td>0.06100</td>\n",
       "      <td>0.1312</td>\n",
       "      <td>0.3602</td>\n",
       "      <td>1.107</td>\n",
       "      <td>9.438</td>\n",
       "      <td>0.004124</td>\n",
       "      <td>0.013400</td>\n",
       "      <td>0.01003</td>\n",
       "      <td>0.004667</td>\n",
       "      <td>0.020320</td>\n",
       "      <td>0.001952</td>\n",
       "      <td>12.34</td>\n",
       "      <td>12.87</td>\n",
       "      <td>81.23</td>\n",
       "      <td>467.8</td>\n",
       "      <td>0.10920</td>\n",
       "      <td>0.16260</td>\n",
       "      <td>0.08324</td>\n",
       "      <td>0.04715</td>\n",
       "      <td>0.3390</td>\n",
       "      <td>0.07434</td>\n",
       "    </tr>\n",
       "    <tr>\n",
       "      <th>3</th>\n",
       "      <td>0</td>\n",
       "      <td>8.734</td>\n",
       "      <td>16.84</td>\n",
       "      <td>55.27</td>\n",
       "      <td>234.3</td>\n",
       "      <td>0.10390</td>\n",
       "      <td>0.07428</td>\n",
       "      <td>0.00000</td>\n",
       "      <td>0.000000</td>\n",
       "      <td>0.1985</td>\n",
       "      <td>0.07098</td>\n",
       "      <td>0.5169</td>\n",
       "      <td>2.0790</td>\n",
       "      <td>3.167</td>\n",
       "      <td>28.850</td>\n",
       "      <td>0.015820</td>\n",
       "      <td>0.019660</td>\n",
       "      <td>0.00000</td>\n",
       "      <td>0.000000</td>\n",
       "      <td>0.018650</td>\n",
       "      <td>0.006736</td>\n",
       "      <td>10.17</td>\n",
       "      <td>22.80</td>\n",
       "      <td>64.01</td>\n",
       "      <td>317.0</td>\n",
       "      <td>0.14600</td>\n",
       "      <td>0.13100</td>\n",
       "      <td>0.00000</td>\n",
       "      <td>0.00000</td>\n",
       "      <td>0.2445</td>\n",
       "      <td>0.08865</td>\n",
       "    </tr>\n",
       "    <tr>\n",
       "      <th>4</th>\n",
       "      <td>0</td>\n",
       "      <td>11.710</td>\n",
       "      <td>17.19</td>\n",
       "      <td>74.68</td>\n",
       "      <td>420.3</td>\n",
       "      <td>0.09774</td>\n",
       "      <td>0.06141</td>\n",
       "      <td>0.03809</td>\n",
       "      <td>0.032390</td>\n",
       "      <td>0.1516</td>\n",
       "      <td>0.06095</td>\n",
       "      <td>0.2451</td>\n",
       "      <td>0.7655</td>\n",
       "      <td>1.742</td>\n",
       "      <td>17.860</td>\n",
       "      <td>0.006905</td>\n",
       "      <td>0.008704</td>\n",
       "      <td>0.01978</td>\n",
       "      <td>0.011850</td>\n",
       "      <td>0.018970</td>\n",
       "      <td>0.001671</td>\n",
       "      <td>13.01</td>\n",
       "      <td>21.39</td>\n",
       "      <td>84.42</td>\n",
       "      <td>521.5</td>\n",
       "      <td>0.13230</td>\n",
       "      <td>0.10400</td>\n",
       "      <td>0.15210</td>\n",
       "      <td>0.10990</td>\n",
       "      <td>0.2572</td>\n",
       "      <td>0.07097</td>\n",
       "    </tr>\n",
       "  </tbody>\n",
       "</table>\n",
       "</div>"
      ],
      "text/plain": [
       "   diagnosis  radius_mean  ...  symmetry_worst  fractal_dimension_worst\n",
       "0          1       20.260  ...          0.3689                  0.08368\n",
       "1          1       14.990  ...          0.1565                  0.05504\n",
       "2          0       11.540  ...          0.3390                  0.07434\n",
       "3          0        8.734  ...          0.2445                  0.08865\n",
       "4          0       11.710  ...          0.2572                  0.07097\n",
       "\n",
       "[5 rows x 31 columns]"
      ]
     },
     "execution_count": 23,
     "metadata": {
      "tags": []
     },
     "output_type": "execute_result"
    }
   ],
   "source": [
    "from sklearn.preprocessing import LabelEncoder\n",
    "\n",
    "# The LabelEncoder\n",
    "le = LabelEncoder()\n",
    "\n",
    "# Encode categorical target in the combined data\n",
    "df[target] = le.fit_transform(df[target].astype(str))\n",
    "\n",
    "# Print the first 5 rows of df\n",
    "df.head()"
   ]
  },
  {
   "cell_type": "markdown",
   "metadata": {
    "id": "M4nnAv_YzlFz"
   },
   "source": [
    "#### Separating the training, validation and test data\n",
    "The code below shows how to separate the training, validation and test data."
   ]
  },
  {
   "cell_type": "code",
   "execution_count": 24,
   "metadata": {
    "executionInfo": {
     "elapsed": 25161,
     "status": "ok",
     "timestamp": 1604370390351,
     "user": {
      "displayName": "Huang Yuxiao",
      "photoUrl": "",
      "userId": "05167076769245149404"
     },
     "user_tz": 300
    },
    "id": "53RGy5NRzlF0"
   },
   "outputs": [],
   "source": [
    "# Separating the training data\n",
    "df_train = df.iloc[:df_train.shape[0], :]\n",
    "\n",
    "# Separating the validation data\n",
    "df_val = df.iloc[df_train.shape[0]:df_train.shape[0] + df_val.shape[0], :]\n",
    "\n",
    "# Separating the test data\n",
    "df_test = df.iloc[df_train.shape[0] + df_val.shape[0]:, :]"
   ]
  },
  {
   "cell_type": "code",
   "execution_count": 25,
   "metadata": {
    "colab": {
     "base_uri": "https://localhost:8080/",
     "height": 80
    },
    "executionInfo": {
     "elapsed": 25138,
     "status": "ok",
     "timestamp": 1604370390352,
     "user": {
      "displayName": "Huang Yuxiao",
      "photoUrl": "",
      "userId": "05167076769245149404"
     },
     "user_tz": 300
    },
    "id": "kz0qdOrlzlF1",
    "outputId": "70c1507e-103d-4207-a9ad-59c76f8f4178",
    "scrolled": true
   },
   "outputs": [
    {
     "data": {
      "text/html": [
       "<div>\n",
       "<style scoped>\n",
       "    .dataframe tbody tr th:only-of-type {\n",
       "        vertical-align: middle;\n",
       "    }\n",
       "\n",
       "    .dataframe tbody tr th {\n",
       "        vertical-align: top;\n",
       "    }\n",
       "\n",
       "    .dataframe thead th {\n",
       "        text-align: right;\n",
       "    }\n",
       "</style>\n",
       "<table border=\"1\" class=\"dataframe\">\n",
       "  <thead>\n",
       "    <tr style=\"text-align: right;\">\n",
       "      <th></th>\n",
       "      <th># rows</th>\n",
       "      <th># columns</th>\n",
       "    </tr>\n",
       "  </thead>\n",
       "  <tbody>\n",
       "    <tr>\n",
       "      <th>0</th>\n",
       "      <td>284</td>\n",
       "      <td>31</td>\n",
       "    </tr>\n",
       "  </tbody>\n",
       "</table>\n",
       "</div>"
      ],
      "text/plain": [
       "   # rows  # columns\n",
       "0     284         31"
      ]
     },
     "execution_count": 25,
     "metadata": {
      "tags": []
     },
     "output_type": "execute_result"
    }
   ],
   "source": [
    "# Print the dimension of df_train\n",
    "pd.DataFrame([[df_train.shape[0], df_train.shape[1]]], columns=['# rows', '# columns'])"
   ]
  },
  {
   "cell_type": "code",
   "execution_count": 26,
   "metadata": {
    "colab": {
     "base_uri": "https://localhost:8080/",
     "height": 80
    },
    "executionInfo": {
     "elapsed": 25115,
     "status": "ok",
     "timestamp": 1604370390352,
     "user": {
      "displayName": "Huang Yuxiao",
      "photoUrl": "",
      "userId": "05167076769245149404"
     },
     "user_tz": 300
    },
    "id": "AOhCPkt3zlF2",
    "outputId": "4fee9df7-0e45-42a5-e4df-dc7664da8851",
    "scrolled": true
   },
   "outputs": [
    {
     "data": {
      "text/html": [
       "<div>\n",
       "<style scoped>\n",
       "    .dataframe tbody tr th:only-of-type {\n",
       "        vertical-align: middle;\n",
       "    }\n",
       "\n",
       "    .dataframe tbody tr th {\n",
       "        vertical-align: top;\n",
       "    }\n",
       "\n",
       "    .dataframe thead th {\n",
       "        text-align: right;\n",
       "    }\n",
       "</style>\n",
       "<table border=\"1\" class=\"dataframe\">\n",
       "  <thead>\n",
       "    <tr style=\"text-align: right;\">\n",
       "      <th></th>\n",
       "      <th># rows</th>\n",
       "      <th># columns</th>\n",
       "    </tr>\n",
       "  </thead>\n",
       "  <tbody>\n",
       "    <tr>\n",
       "      <th>0</th>\n",
       "      <td>114</td>\n",
       "      <td>31</td>\n",
       "    </tr>\n",
       "  </tbody>\n",
       "</table>\n",
       "</div>"
      ],
      "text/plain": [
       "   # rows  # columns\n",
       "0     114         31"
      ]
     },
     "execution_count": 26,
     "metadata": {
      "tags": []
     },
     "output_type": "execute_result"
    }
   ],
   "source": [
    "# Print the dimension of df_val\n",
    "pd.DataFrame([[df_val.shape[0], df_val.shape[1]]], columns=['# rows', '# columns'])"
   ]
  },
  {
   "cell_type": "code",
   "execution_count": 27,
   "metadata": {
    "colab": {
     "base_uri": "https://localhost:8080/",
     "height": 80
    },
    "executionInfo": {
     "elapsed": 25093,
     "status": "ok",
     "timestamp": 1604370390353,
     "user": {
      "displayName": "Huang Yuxiao",
      "photoUrl": "",
      "userId": "05167076769245149404"
     },
     "user_tz": 300
    },
    "id": "Z1unjEYDzlF4",
    "outputId": "25d4f13d-de89-449e-f53d-ba15a86e7b68",
    "scrolled": false
   },
   "outputs": [
    {
     "data": {
      "text/html": [
       "<div>\n",
       "<style scoped>\n",
       "    .dataframe tbody tr th:only-of-type {\n",
       "        vertical-align: middle;\n",
       "    }\n",
       "\n",
       "    .dataframe tbody tr th {\n",
       "        vertical-align: top;\n",
       "    }\n",
       "\n",
       "    .dataframe thead th {\n",
       "        text-align: right;\n",
       "    }\n",
       "</style>\n",
       "<table border=\"1\" class=\"dataframe\">\n",
       "  <thead>\n",
       "    <tr style=\"text-align: right;\">\n",
       "      <th></th>\n",
       "      <th># rows</th>\n",
       "      <th># columns</th>\n",
       "    </tr>\n",
       "  </thead>\n",
       "  <tbody>\n",
       "    <tr>\n",
       "      <th>0</th>\n",
       "      <td>171</td>\n",
       "      <td>31</td>\n",
       "    </tr>\n",
       "  </tbody>\n",
       "</table>\n",
       "</div>"
      ],
      "text/plain": [
       "   # rows  # columns\n",
       "0     171         31"
      ]
     },
     "execution_count": 27,
     "metadata": {
      "tags": []
     },
     "output_type": "execute_result"
    }
   ],
   "source": [
    "# Print the dimension of df_test\n",
    "pd.DataFrame([[df_test.shape[0], df_test.shape[1]]], columns=['# rows', '# columns'])"
   ]
  },
  {
   "cell_type": "markdown",
   "metadata": {
    "id": "Edju_Ur9zlF8"
   },
   "source": [
    "### Step 1e: Splitting the feature and target\n",
    "The code below shows how to split the feature and target."
   ]
  },
  {
   "cell_type": "code",
   "execution_count": 28,
   "metadata": {
    "executionInfo": {
     "elapsed": 25091,
     "status": "ok",
     "timestamp": 1604370390353,
     "user": {
      "displayName": "Huang Yuxiao",
      "photoUrl": "",
      "userId": "05167076769245149404"
     },
     "user_tz": 300
    },
    "id": "GM7JSraLzlF8"
   },
   "outputs": [],
   "source": [
    "# Get the feature matrix\n",
    "X_train = df_train[np.setdiff1d(df_train.columns, [target])].values\n",
    "X_val = df_val[np.setdiff1d(df_val.columns, [target])].values\n",
    "X_test = df_test[np.setdiff1d(df_test.columns, [target])].values\n",
    "\n",
    "# Get the target vector\n",
    "y_train = df_train[target].values\n",
    "y_val = df_val[target].values\n",
    "y_test = df_test[target].values"
   ]
  },
  {
   "cell_type": "markdown",
   "metadata": {
    "id": "S7-Kc1AyzlF7"
   },
   "source": [
    "### Step 1f: Scaling the features"
   ]
  },
  {
   "cell_type": "markdown",
   "metadata": {
    "id": "NTSB5KZNXY2m"
   },
   "source": [
    "#### Normalizing the features\n",
    "The code below shows how to normalize the features."
   ]
  },
  {
   "cell_type": "code",
   "execution_count": 29,
   "metadata": {
    "executionInfo": {
     "elapsed": 25091,
     "status": "ok",
     "timestamp": 1604370390354,
     "user": {
      "displayName": "Huang Yuxiao",
      "photoUrl": "",
      "userId": "05167076769245149404"
     },
     "user_tz": 300
    },
    "id": "uOEGs_fiXY2m"
   },
   "outputs": [],
   "source": [
    "from sklearn.preprocessing import MinMaxScaler\n",
    "\n",
    "# The MinMaxScaler\n",
    "mms = MinMaxScaler()\n",
    "\n",
    "# Normalize the training data\n",
    "X_train = mms.fit_transform(X_train)\n",
    "\n",
    "# Normalize the validation data\n",
    "X_val = mms.transform(X_val)\n",
    "\n",
    "# Normalize the test data\n",
    "X_test = mms.transform(X_test)"
   ]
  },
  {
   "cell_type": "markdown",
   "metadata": {
    "id": "szS5qt33fLHq"
   },
   "source": [
    "## Step 2: Data augmentation using RO, SOMTE and GANs"
   ]
  },
  {
   "cell_type": "markdown",
   "metadata": {
    "id": "svqeEQFek67X"
   },
   "source": [
    "### Step 2a: Obtaining the number of samples for each class and identifying the minority class"
   ]
  },
  {
   "cell_type": "markdown",
   "metadata": {
    "id": "USBwi0D0kn6I"
   },
   "source": [
    "#### Obtaining the number of samples for each class "
   ]
  },
  {
   "cell_type": "code",
   "execution_count": 30,
   "metadata": {
    "colab": {
     "base_uri": "https://localhost:8080/"
    },
    "executionInfo": {
     "elapsed": 25070,
     "status": "ok",
     "timestamp": 1604370390356,
     "user": {
      "displayName": "Huang Yuxiao",
      "photoUrl": "",
      "userId": "05167076769245149404"
     },
     "user_tz": 300
    },
    "id": "YyRT3GZYfLHq",
    "outputId": "ca394cb1-84b2-464a-91a4-9d1e2e482330",
    "scrolled": true
   },
   "outputs": [
    {
     "data": {
      "text/plain": [
       "1    106\n",
       "0    178\n",
       "dtype: int64"
      ]
     },
     "execution_count": 30,
     "metadata": {
      "tags": []
     },
     "output_type": "execute_result"
    }
   ],
   "source": [
    "value_counts = pd.Series(y_train).value_counts(ascending=True)\n",
    "value_counts"
   ]
  },
  {
   "cell_type": "markdown",
   "metadata": {
    "id": "utqpLPaAeXVR"
   },
   "source": [
    "#### Identifying the minority class"
   ]
  },
  {
   "cell_type": "code",
   "execution_count": 31,
   "metadata": {
    "colab": {
     "base_uri": "https://localhost:8080/"
    },
    "executionInfo": {
     "elapsed": 25048,
     "status": "ok",
     "timestamp": 1604370390356,
     "user": {
      "displayName": "Huang Yuxiao",
      "photoUrl": "",
      "userId": "05167076769245149404"
     },
     "user_tz": 300
    },
    "id": "jmehuerOfRAO",
    "outputId": "1e3d82be-7c75-45f0-c443-679e28e17d18",
    "scrolled": true
   },
   "outputs": [
    {
     "data": {
      "text/plain": [
       "1"
      ]
     },
     "execution_count": 31,
     "metadata": {
      "tags": []
     },
     "output_type": "execute_result"
    }
   ],
   "source": [
    "minor_class = value_counts.index[0]\n",
    "minor_class"
   ]
  },
  {
   "cell_type": "markdown",
   "metadata": {
    "id": "gTJKO4YI_Fb3"
   },
   "source": [
    "### Step 2b: Applying RO and SMOTE"
   ]
  },
  {
   "cell_type": "markdown",
   "metadata": {
    "id": "5fu4olFBk67a"
   },
   "source": [
    "#### Applying RO\n",
    "The code below shows how to use Random Oversampling to augment the minority class (so as to produce balanced data)."
   ]
  },
  {
   "cell_type": "markdown",
   "metadata": {
    "id": "hxBWJlkFq224"
   },
   "source": [
    "##### Augmenting the minority class in the training data"
   ]
  },
  {
   "cell_type": "code",
   "execution_count": 32,
   "metadata": {
    "executionInfo": {
     "elapsed": 25046,
     "status": "ok",
     "timestamp": 1604370390356,
     "user": {
      "displayName": "Huang Yuxiao",
      "photoUrl": "",
      "userId": "05167076769245149404"
     },
     "user_tz": 300
    },
    "id": "eolzxm9v-2nX"
   },
   "outputs": [],
   "source": [
    "from imblearn.over_sampling import RandomOverSampler\n",
    "\n",
    "# The RandomOverSampler\n",
    "ros = RandomOverSampler(random_state=random_seed)\n",
    "\n",
    "# Augment the minority class in the training data\n",
    "X_ros_train, y_ros_train = ros.fit_resample(X_train, y_train)"
   ]
  },
  {
   "cell_type": "markdown",
   "metadata": {
    "id": "Dx53fMHrUeLU"
   },
   "source": [
    "##### Getting the class distribution"
   ]
  },
  {
   "cell_type": "code",
   "execution_count": 33,
   "metadata": {
    "colab": {
     "base_uri": "https://localhost:8080/"
    },
    "executionInfo": {
     "elapsed": 25024,
     "status": "ok",
     "timestamp": 1604370390357,
     "user": {
      "displayName": "Huang Yuxiao",
      "photoUrl": "",
      "userId": "05167076769245149404"
     },
     "user_tz": 300
    },
    "id": "Uxcu6bzHq225",
    "outputId": "0f59683c-a464-409a-c332-eb0566d4a596"
   },
   "outputs": [
    {
     "data": {
      "text/plain": [
       "1    178\n",
       "0    178\n",
       "dtype: int64"
      ]
     },
     "execution_count": 33,
     "metadata": {
      "tags": []
     },
     "output_type": "execute_result"
    }
   ],
   "source": [
    "pd.Series(y_ros_train).value_counts()"
   ]
  },
  {
   "cell_type": "markdown",
   "metadata": {
    "id": "_QfXeKAy_Jfd"
   },
   "source": [
    "#### Applying SMOTE\n",
    "The code below shows how to use SMOTE to augment the minority class (so as to produce balanced data)."
   ]
  },
  {
   "cell_type": "markdown",
   "metadata": {
    "id": "u4Y4bA21UeLV"
   },
   "source": [
    "##### Augmenting the minority class in the training data"
   ]
  },
  {
   "cell_type": "code",
   "execution_count": 34,
   "metadata": {
    "executionInfo": {
     "elapsed": 25022,
     "status": "ok",
     "timestamp": 1604370390357,
     "user": {
      "displayName": "Huang Yuxiao",
      "photoUrl": "",
      "userId": "05167076769245149404"
     },
     "user_tz": 300
    },
    "id": "oV2f1pAY_C5b"
   },
   "outputs": [],
   "source": [
    "from imblearn.over_sampling import SMOTE\n",
    "\n",
    "# The SMOTE\n",
    "smote = SMOTE(random_state=random_seed)\n",
    "\n",
    "# Augment the minority class in the training data\n",
    "X_smote_train, y_smote_train = smote.fit_resample(X_train, y_train)"
   ]
  },
  {
   "cell_type": "markdown",
   "metadata": {
    "id": "GDFLWQ5yq227"
   },
   "source": [
    "##### Getting the class distribution"
   ]
  },
  {
   "cell_type": "code",
   "execution_count": 35,
   "metadata": {
    "colab": {
     "base_uri": "https://localhost:8080/"
    },
    "executionInfo": {
     "elapsed": 25001,
     "status": "ok",
     "timestamp": 1604370390359,
     "user": {
      "displayName": "Huang Yuxiao",
      "photoUrl": "",
      "userId": "05167076769245149404"
     },
     "user_tz": 300
    },
    "id": "G5s5So-Bq227",
    "outputId": "5debb674-7244-48a9-b0a9-9f76e769da60"
   },
   "outputs": [
    {
     "data": {
      "text/plain": [
       "1    178\n",
       "0    178\n",
       "dtype: int64"
      ]
     },
     "execution_count": 35,
     "metadata": {
      "tags": []
     },
     "output_type": "execute_result"
    }
   ],
   "source": [
    "pd.Series(y_smote_train).value_counts()"
   ]
  },
  {
   "cell_type": "markdown",
   "metadata": {
    "id": "2EFc1RYYbT66"
   },
   "source": [
    "### Step 2c: Developing GANs\n",
    "The code below shows how to build, compile and train GANs and then use the trained GANs to augment the minority class (so as to produce balanced data)."
   ]
  },
  {
   "cell_type": "markdown",
   "metadata": {
    "id": "ffXWfzIqPfBq"
   },
   "source": [
    "#### Getting the training data of the minority class"
   ]
  },
  {
   "cell_type": "code",
   "execution_count": 36,
   "metadata": {
    "executionInfo": {
     "elapsed": 25001,
     "status": "ok",
     "timestamp": 1604370390360,
     "user": {
      "displayName": "Huang Yuxiao",
      "photoUrl": "",
      "userId": "05167076769245149404"
     },
     "user_tz": 300
    },
    "id": "2WiturjR2dTU"
   },
   "outputs": [],
   "source": [
    "# Get the training feature matrix of the minority class\n",
    "X_minor_train = X_train[np.where(y_train == minor_class)]\n",
    "\n",
    "# Get the training target vector of the minority class\n",
    "y_minor_train = y_train[np.where(y_train == minor_class)]"
   ]
  },
  {
   "cell_type": "markdown",
   "metadata": {
    "id": "pRgbNDPdNAq-"
   },
   "source": [
    "#### Creating the directory of the saved GANs"
   ]
  },
  {
   "cell_type": "code",
   "execution_count": 37,
   "metadata": {
    "executionInfo": {
     "elapsed": 24999,
     "status": "ok",
     "timestamp": 1604370390360,
     "user": {
      "displayName": "Huang Yuxiao",
      "photoUrl": "",
      "userId": "05167076769245149404"
     },
     "user_tz": 300
    },
    "id": "__28jlkXNET1"
   },
   "outputs": [],
   "source": [
    "import os\n",
    "\n",
    "# Make directory\n",
    "directory = os.path.dirname(abspath_curr + 'result/model/')\n",
    "if not os.path.exists(directory):\n",
    "    os.makedirs(directory)"
   ]
  },
  {
   "cell_type": "markdown",
   "metadata": {
    "id": "jFOOqn0ihRju"
   },
   "source": [
    "#### Building GANs"
   ]
  },
  {
   "cell_type": "code",
   "execution_count": 38,
   "metadata": {
    "colab": {
     "base_uri": "https://localhost:8080/"
    },
    "executionInfo": {
     "elapsed": 24978,
     "status": "ok",
     "timestamp": 1604370390361,
     "user": {
      "displayName": "Huang Yuxiao",
      "photoUrl": "",
      "userId": "05167076769245149404"
     },
     "user_tz": 300
    },
    "id": "JjRpWPaphRju",
    "outputId": "938f7c30-b9bf-4f7d-e259-c2a9dff1c678"
   },
   "outputs": [
    {
     "name": "stdout",
     "output_type": "stream",
     "text": [
      "Model: \"sequential_2\"\n",
      "_________________________________________________________________\n",
      "Layer (type)                 Output Shape              Param #   \n",
      "=================================================================\n",
      "sequential (Sequential)      (None, 30)                418030    \n",
      "_________________________________________________________________\n",
      "sequential_1 (Sequential)    (None, 1)                 417531    \n",
      "=================================================================\n",
      "Total params: 835,561\n",
      "Trainable params: 835,561\n",
      "Non-trainable params: 0\n",
      "_________________________________________________________________\n"
     ]
    }
   ],
   "source": [
    "# Set the number of features\n",
    "n_features = X_train.shape[1]\n",
    "\n",
    "# Set the coding size, which is the dimension of the noise used as input for the generator\n",
    "coding_size = n_features // 2\n",
    "\n",
    "# Build the generator\n",
    "generator = keras.models.Sequential([\n",
    "    keras.layers.Dense(100, activation='selu', input_shape=[coding_size]),\n",
    "    keras.layers.Dense(200, activation='selu'),\n",
    "    keras.layers.Dense(300, activation='selu'),\n",
    "    keras.layers.Dense(400, activation='selu'),\n",
    "    keras.layers.Dense(500, activation='selu'),\n",
    "    keras.layers.Dense(n_features, activation='sigmoid')\n",
    "])\n",
    "\n",
    "# Build the discriminator\n",
    "discriminator = keras.models.Sequential([\n",
    "    keras.layers.Dense(n_features),\n",
    "    keras.layers.Dense(500, activation='selu'),\n",
    "    keras.layers.Dense(400, activation='selu'),\n",
    "    keras.layers.Dense(300, activation='selu'),\n",
    "    keras.layers.Dense(200, activation='selu'),\n",
    "    keras.layers.Dense(100, activation='selu'),\n",
    "    keras.layers.Dense(1, activation='sigmoid')\n",
    "])\n",
    "\n",
    "# Build a gan\n",
    "gan = keras.models.Sequential([generator, discriminator])\n",
    "\n",
    "# Get the summary\n",
    "gan.summary()"
   ]
  },
  {
   "cell_type": "markdown",
   "metadata": {
    "id": "3ggOzTBOhRjv"
   },
   "source": [
    "#### Compiling GANs"
   ]
  },
  {
   "cell_type": "code",
   "execution_count": 39,
   "metadata": {
    "executionInfo": {
     "elapsed": 24977,
     "status": "ok",
     "timestamp": 1604370390362,
     "user": {
      "displayName": "Huang Yuxiao",
      "photoUrl": "",
      "userId": "05167076769245149404"
     },
     "user_tz": 300
    },
    "id": "kP7SbfTPhRjv"
   },
   "outputs": [],
   "source": [
    "# Compile the discriminator\n",
    "discriminator.compile(loss='binary_crossentropy',\n",
    "                      optimizer=keras.optimizers.Adam(learning_rate=10 ** -4))\n",
    "# Freeze the discriminator\n",
    "discriminator.trainable = False\n",
    "\n",
    "# Compile the generator\n",
    "gan.compile(loss='binary_crossentropy',\n",
    "            optimizer=keras.optimizers.Adam(learning_rate=10 ** -4))"
   ]
  },
  {
   "cell_type": "markdown",
   "metadata": {
    "id": "2ZYUv96PhRjy"
   },
   "source": [
    "#### Training GANs"
   ]
  },
  {
   "cell_type": "code",
   "execution_count": 40,
   "metadata": {
    "executionInfo": {
     "elapsed": 28788,
     "status": "ok",
     "timestamp": 1604370394174,
     "user": {
      "displayName": "Huang Yuxiao",
      "photoUrl": "",
      "userId": "05167076769245149404"
     },
     "user_tz": 300
    },
    "id": "f93mRuE5n06S"
   },
   "outputs": [],
   "source": [
    "# Get the generator and discriminator\n",
    "generator, discriminator = gan.layers\n",
    "\n",
    "# Get the indices of the training data of the minority class\n",
    "idxs_minor_train = np.array(range(X_minor_train.shape[0]))\n",
    "\n",
    "# The batch size\n",
    "batch_size = 32\n",
    "\n",
    "# Get the number of minibatches\n",
    "n_batch = len(idxs_minor_train) // batch_size\n",
    "\n",
    "# The number of maximum epoch\n",
    "max_iter = 10\n",
    "\n",
    "# For each epoch\n",
    "for _ in range(max_iter):\n",
    "    # Shuffle the data\n",
    "    np.random.RandomState(seed=random_seed).shuffle(idxs_minor_train)\n",
    "    \n",
    "    # For each minibatch\n",
    "    for i in range(n_batch):\n",
    "        # Get the first and last index (exclusive) of the minibatch\n",
    "        first_idx = i * batch_size\n",
    "        last_idx = min((i + 1) * batch_size, len(idxs_minor_train))\n",
    "                                \n",
    "        # Get the minibatch\n",
    "        mb = idxs_minor_train[first_idx : last_idx]\n",
    "        \n",
    "        # Get the real feature matrix\n",
    "        real_features = X_minor_train[mb, :]\n",
    "\n",
    "        # Get the noise\n",
    "        noise = tf.random.normal(shape=[len(mb), coding_size], seed=random_seed)\n",
    "\n",
    "        # Get the gen feature matrix\n",
    "        gen_features = generator(noise)\n",
    "\n",
    "        # Cominbe the generated and real feature matrix\n",
    "        gen_real_features = tf.concat([gen_features, real_features], axis=0)\n",
    "\n",
    "        # Get the target vector\n",
    "        y = tf.constant([[0.]] * len(mb) + [[1.]] * len(mb))\n",
    "\n",
    "        # Unfreeze the discriminator\n",
    "        discriminator.trainable = True\n",
    "\n",
    "        # Train the discriminator\n",
    "        discriminator.train_on_batch(gen_real_features, y)\n",
    "\n",
    "        # Get the noise\n",
    "        noise = tf.random.normal(shape=[len(mb), coding_size], seed=random_seed)\n",
    "\n",
    "        # Get the target\n",
    "        y = tf.constant([[1.]] * len(mb))\n",
    "\n",
    "        # Freeze the discriminator\n",
    "        discriminator.trainable = False\n",
    "\n",
    "        # Train the generator\n",
    "        gan.train_on_batch(noise, y)\n",
    "\n",
    "    # Save the gan\n",
    "    gan.save(abspath_curr + 'result/model/model.h5')"
   ]
  },
  {
   "cell_type": "markdown",
   "metadata": {
    "id": "RkGivY_MA6m1"
   },
   "source": [
    "#### Augmenting the minority class in the training data"
   ]
  },
  {
   "cell_type": "markdown",
   "metadata": {
    "id": "t14tEj4owgm8"
   },
   "source": [
    "##### Loading the saved model"
   ]
  },
  {
   "cell_type": "code",
   "execution_count": 41,
   "metadata": {
    "executionInfo": {
     "elapsed": 28788,
     "status": "ok",
     "timestamp": 1604370394175,
     "user": {
      "displayName": "Huang Yuxiao",
      "photoUrl": "",
      "userId": "05167076769245149404"
     },
     "user_tz": 300
    },
    "id": "BOLsGKgawiv3"
   },
   "outputs": [],
   "source": [
    "# Load the model\n",
    "model = keras.models.load_model(abspath_curr + 'result/model/model.h5')"
   ]
  },
  {
   "cell_type": "markdown",
   "metadata": {
    "id": "YAfOtSI7wajL"
   },
   "source": [
    "##### Generating the minority class data"
   ]
  },
  {
   "cell_type": "code",
   "execution_count": 42,
   "metadata": {
    "executionInfo": {
     "elapsed": 28788,
     "status": "ok",
     "timestamp": 1604370394176,
     "user": {
      "displayName": "Huang Yuxiao",
      "photoUrl": "",
      "userId": "05167076769245149404"
     },
     "user_tz": 300
    },
    "id": "aoJnAfYfYDjH"
   },
   "outputs": [],
   "source": [
    "# Get the generator\n",
    "generator = gan.layers[0]\n",
    "\n",
    "# Get the difference between number of majority class and minority class\n",
    "n_class_diff = X_train.shape[0] - 2 * X_minor_train.shape[0]\n",
    "\n",
    "# Initialize the generated data\n",
    "gen_data = np.zeros((n_class_diff, X_minor_train.shape[1] + 1))\n",
    "\n",
    "for i in range(n_class_diff):\n",
    "    # Get the noise\n",
    "    noise = tf.random.normal(shape=[1, coding_size], seed=random_seed)\n",
    "\n",
    "    # Get the generated features\n",
    "    gen_features = generator(noise)\n",
    "\n",
    "    # Update the generated data\n",
    "    gen_data[i, :-1], gen_data[i, -1] = gen_features, minor_class"
   ]
  },
  {
   "cell_type": "markdown",
   "metadata": {
    "id": "UUZBfa0_u5Rp"
   },
   "source": [
    "##### Augmenting the minority class in the training data"
   ]
  },
  {
   "cell_type": "code",
   "execution_count": 43,
   "metadata": {
    "executionInfo": {
     "elapsed": 28786,
     "status": "ok",
     "timestamp": 1604370394176,
     "user": {
      "displayName": "Huang Yuxiao",
      "photoUrl": "",
      "userId": "05167076769245149404"
     },
     "user_tz": 300
    },
    "id": "oEa-h1ed9YwO"
   },
   "outputs": [],
   "source": [
    "# Augment the training feature matrix\n",
    "X_gan_train = np.vstack((X_train, gen_data[:, :-1]))\n",
    "\n",
    "# Augment the training target vector\n",
    "y_gan_train = np.vstack((y_train.reshape(-1, 1), gen_data[:, -1].reshape(-1, 1))).reshape(-1)"
   ]
  },
  {
   "cell_type": "markdown",
   "metadata": {
    "id": "ShXWEyhmOsaP"
   },
   "source": [
    "## Step 3: Training, validating and testing the classifiers "
   ]
  },
  {
   "cell_type": "markdown",
   "metadata": {
    "id": "rxbKOpljOsaQ"
   },
   "source": [
    "### Step 3a: Creating the dictionary of the models\n",
    "- In the dictionary:\n",
    "    - the key is the acronym of the model\n",
    "    - the value is the model"
   ]
  },
  {
   "cell_type": "code",
   "execution_count": 44,
   "metadata": {
    "executionInfo": {
     "elapsed": 28785,
     "status": "ok",
     "timestamp": 1604370394176,
     "user": {
      "displayName": "Huang Yuxiao",
      "photoUrl": "",
      "userId": "05167076769245149404"
     },
     "user_tz": 300
    },
    "id": "JNIfCNuBOsaQ"
   },
   "outputs": [],
   "source": [
    "from sklearn.experimental import enable_hist_gradient_boosting\n",
    "from sklearn.ensemble import HistGradientBoostingClassifier\n",
    "\n",
    "models = {'hgbc': HistGradientBoostingClassifier(random_state=random_seed)}"
   ]
  },
  {
   "cell_type": "markdown",
   "metadata": {
    "id": "gz5y76gxOsaS"
   },
   "source": [
    "### Step 3b: Creating the dictionary of the sklearn pipelines\n",
    "In the dictionary:\n",
    "- the key is the acronym of the model\n",
    "- the value is the pipeline, which, for now, only includes the model"
   ]
  },
  {
   "cell_type": "code",
   "execution_count": 45,
   "metadata": {
    "executionInfo": {
     "elapsed": 28785,
     "status": "ok",
     "timestamp": 1604370394177,
     "user": {
      "displayName": "Huang Yuxiao",
      "photoUrl": "",
      "userId": "05167076769245149404"
     },
     "user_tz": 300
    },
    "id": "ZI2unwFFOsaS"
   },
   "outputs": [],
   "source": [
    "from sklearn.pipeline import Pipeline\n",
    "\n",
    "pipes = {}\n",
    "\n",
    "for acronym, model in models.items():\n",
    "    pipes[acronym] = Pipeline([('model', model)])"
   ]
  },
  {
   "cell_type": "markdown",
   "metadata": {
    "id": "6ZpRvCysOsaU"
   },
   "source": [
    "### Step 3c: Creating the dictionary of the parameter grids\n",
    "- In the dictionary:\n",
    "    - the key is the acronym of the model\n",
    "    - the value is the parameter grid of the model"
   ]
  },
  {
   "cell_type": "code",
   "execution_count": 46,
   "metadata": {
    "executionInfo": {
     "elapsed": 28783,
     "status": "ok",
     "timestamp": 1604370394177,
     "user": {
      "displayName": "Huang Yuxiao",
      "photoUrl": "",
      "userId": "05167076769245149404"
     },
     "user_tz": 300
    },
    "id": "wtur69dGOsaV"
   },
   "outputs": [],
   "source": [
    "param_grids = {}"
   ]
  },
  {
   "cell_type": "markdown",
   "metadata": {
    "id": "gcUA6hscOsaZ"
   },
   "source": [
    "#### The parameter grid for histogram-based gradient boosting\n",
    "The hyperparameters we want to fine-tune are:\n",
    "- learning_rate\n",
    "- min_samples_leaf\n",
    "\n",
    "See details of the meaning of the hyperparametes in [sklearn.ensemble.HistGradientBoostingClassifier](https://scikit-learn.org/stable/modules/generated/sklearn.ensemble.HistGradientBoostingClassifier.html)"
   ]
  },
  {
   "cell_type": "code",
   "execution_count": 47,
   "metadata": {
    "executionInfo": {
     "elapsed": 28782,
     "status": "ok",
     "timestamp": 1604370394177,
     "user": {
      "displayName": "Huang Yuxiao",
      "photoUrl": "",
      "userId": "05167076769245149404"
     },
     "user_tz": 300
    },
    "id": "3HMuP4QhOsaZ"
   },
   "outputs": [],
   "source": [
    "# The grids for learning_rate\n",
    "learning_rate_grids = [10 ** i for i in range(-3, 2)]\n",
    "\n",
    "# The grids for min_samples_leaf\n",
    "min_samples_leaf_grids = [1, 20, 100]\n",
    "\n",
    "# Update param_grids\n",
    "param_grids['hgbc'] = [{'model__learning_rate': learning_rate_grids,\n",
    "                        'model__min_samples_leaf': min_samples_leaf_grids}]"
   ]
  },
  {
   "cell_type": "markdown",
   "metadata": {
    "id": "YoYgPilmbT7Z"
   },
   "source": [
    "### Step 3d: Training, validation and test"
   ]
  },
  {
   "cell_type": "markdown",
   "metadata": {
    "id": "eOZigrfkkN-z"
   },
   "source": [
    "#### Training, validation and test without data augmentation"
   ]
  },
  {
   "cell_type": "code",
   "execution_count": 48,
   "metadata": {
    "colab": {
     "base_uri": "https://localhost:8080/",
     "height": 80
    },
    "executionInfo": {
     "elapsed": 33350,
     "status": "ok",
     "timestamp": 1604370398770,
     "user": {
      "displayName": "Huang Yuxiao",
      "photoUrl": "",
      "userId": "05167076769245149404"
     },
     "user_tz": 300
    },
    "id": "boBwYoX7uCLr",
    "outputId": "e7ab8012-0804-4b41-a190-b1499665963b"
   },
   "outputs": [
    {
     "data": {
      "text/html": [
       "<div>\n",
       "<style scoped>\n",
       "    .dataframe tbody tr th:only-of-type {\n",
       "        vertical-align: middle;\n",
       "    }\n",
       "\n",
       "    .dataframe tbody tr th {\n",
       "        vertical-align: top;\n",
       "    }\n",
       "\n",
       "    .dataframe thead th {\n",
       "        text-align: right;\n",
       "    }\n",
       "</style>\n",
       "<table border=\"1\" class=\"dataframe\">\n",
       "  <thead>\n",
       "    <tr style=\"text-align: right;\">\n",
       "      <th></th>\n",
       "      <th>Precision</th>\n",
       "      <th>Recall</th>\n",
       "      <th>F1-score</th>\n",
       "      <th>AUC</th>\n",
       "      <th>Model</th>\n",
       "    </tr>\n",
       "  </thead>\n",
       "  <tbody>\n",
       "    <tr>\n",
       "      <th>0</th>\n",
       "      <td>[0.9469026548672567, 1.0]</td>\n",
       "      <td>[1.0, 0.90625]</td>\n",
       "      <td>[0.9727272727272728, 0.9508196721311475]</td>\n",
       "      <td>0.953125</td>\n",
       "      <td>(HistGradientBoostingClassifier(l2_regularizat...</td>\n",
       "    </tr>\n",
       "  </tbody>\n",
       "</table>\n",
       "</div>"
      ],
      "text/plain": [
       "                   Precision  ...                                              Model\n",
       "0  [0.9469026548672567, 1.0]  ...  (HistGradientBoostingClassifier(l2_regularizat...\n",
       "\n",
       "[1 rows x 5 columns]"
      ]
     },
     "execution_count": 48,
     "metadata": {
      "tags": []
     },
     "output_type": "execute_result"
    }
   ],
   "source": [
    "# Get the:\n",
    "# feature matrix and target velctor in the combined training and validation data\n",
    "# target vector in the combined training and validation data\n",
    "# PredefinedSplit\n",
    "# See the implementation in pmlm_utilities.ipynb\n",
    "X_train_val, y_train_val, ps = get_train_val_ps(X_train, y_train, X_val, y_val)\n",
    "\n",
    "# Training, validation and test\n",
    "# See the implementation in pmlm_utilities.ipynb\n",
    "training_valation_test(X_train_val, y_train_val, X_test, y_test, ps, abspath_curr + 'result/cv_results/', 'baseline')"
   ]
  },
  {
   "cell_type": "markdown",
   "metadata": {
    "id": "GyvTBnj2bT7Z"
   },
   "source": [
    "#### Training, validation and test with respect to RandomOverSampler"
   ]
  },
  {
   "cell_type": "code",
   "execution_count": 49,
   "metadata": {
    "colab": {
     "base_uri": "https://localhost:8080/",
     "height": 80
    },
    "executionInfo": {
     "elapsed": 36544,
     "status": "ok",
     "timestamp": 1604370401987,
     "user": {
      "displayName": "Huang Yuxiao",
      "photoUrl": "",
      "userId": "05167076769245149404"
     },
     "user_tz": 300
    },
    "id": "lSqqBnkS_pyV",
    "outputId": "2abd9e18-e1f5-4885-c324-308ecd2f608d"
   },
   "outputs": [
    {
     "data": {
      "text/html": [
       "<div>\n",
       "<style scoped>\n",
       "    .dataframe tbody tr th:only-of-type {\n",
       "        vertical-align: middle;\n",
       "    }\n",
       "\n",
       "    .dataframe tbody tr th {\n",
       "        vertical-align: top;\n",
       "    }\n",
       "\n",
       "    .dataframe thead th {\n",
       "        text-align: right;\n",
       "    }\n",
       "</style>\n",
       "<table border=\"1\" class=\"dataframe\">\n",
       "  <thead>\n",
       "    <tr style=\"text-align: right;\">\n",
       "      <th></th>\n",
       "      <th>Precision</th>\n",
       "      <th>Recall</th>\n",
       "      <th>F1-score</th>\n",
       "      <th>AUC</th>\n",
       "      <th>Model</th>\n",
       "    </tr>\n",
       "  </thead>\n",
       "  <tbody>\n",
       "    <tr>\n",
       "      <th>0</th>\n",
       "      <td>[0.9469026548672567, 1.0]</td>\n",
       "      <td>[1.0, 0.90625]</td>\n",
       "      <td>[0.9727272727272728, 0.9508196721311475]</td>\n",
       "      <td>0.953125</td>\n",
       "      <td>(HistGradientBoostingClassifier(l2_regularizat...</td>\n",
       "    </tr>\n",
       "  </tbody>\n",
       "</table>\n",
       "</div>"
      ],
      "text/plain": [
       "                   Precision  ...                                              Model\n",
       "0  [0.9469026548672567, 1.0]  ...  (HistGradientBoostingClassifier(l2_regularizat...\n",
       "\n",
       "[1 rows x 5 columns]"
      ]
     },
     "execution_count": 49,
     "metadata": {
      "tags": []
     },
     "output_type": "execute_result"
    }
   ],
   "source": [
    "# Get the:\n",
    "# feature matrix and target velctor in the combined training and validation data\n",
    "# target vector in the combined training and validation data\n",
    "# PredefinedSplit\n",
    "# See the implementation in pmlm_utilities.ipynb\n",
    "X_train_val, y_train_val, ps = get_train_val_ps(X_ros_train, y_ros_train, X_val, y_val)\n",
    "\n",
    "# Training, validation and test\n",
    "# See the implementation in pmlm_utilities.ipynb\n",
    "training_valation_test(X_train_val, y_train_val, X_test, y_test, ps, abspath_curr + 'result/cv_results/', 'ros')"
   ]
  },
  {
   "cell_type": "markdown",
   "metadata": {
    "id": "bwNwvqdZbT7a"
   },
   "source": [
    "#### Training, validation and test with respect to SMOTE"
   ]
  },
  {
   "cell_type": "code",
   "execution_count": 50,
   "metadata": {
    "colab": {
     "base_uri": "https://localhost:8080/",
     "height": 80
    },
    "executionInfo": {
     "elapsed": 39908,
     "status": "ok",
     "timestamp": 1604370405375,
     "user": {
      "displayName": "Huang Yuxiao",
      "photoUrl": "",
      "userId": "05167076769245149404"
     },
     "user_tz": 300
    },
    "id": "FCn8GDEJbT7a",
    "outputId": "d86a8691-4baa-4e29-f198-aca7494ab409"
   },
   "outputs": [
    {
     "data": {
      "text/html": [
       "<div>\n",
       "<style scoped>\n",
       "    .dataframe tbody tr th:only-of-type {\n",
       "        vertical-align: middle;\n",
       "    }\n",
       "\n",
       "    .dataframe tbody tr th {\n",
       "        vertical-align: top;\n",
       "    }\n",
       "\n",
       "    .dataframe thead th {\n",
       "        text-align: right;\n",
       "    }\n",
       "</style>\n",
       "<table border=\"1\" class=\"dataframe\">\n",
       "  <thead>\n",
       "    <tr style=\"text-align: right;\">\n",
       "      <th></th>\n",
       "      <th>Precision</th>\n",
       "      <th>Recall</th>\n",
       "      <th>F1-score</th>\n",
       "      <th>AUC</th>\n",
       "      <th>Model</th>\n",
       "    </tr>\n",
       "  </thead>\n",
       "  <tbody>\n",
       "    <tr>\n",
       "      <th>0</th>\n",
       "      <td>[0.9469026548672567, 1.0]</td>\n",
       "      <td>[1.0, 0.90625]</td>\n",
       "      <td>[0.9727272727272728, 0.9508196721311475]</td>\n",
       "      <td>0.953125</td>\n",
       "      <td>(HistGradientBoostingClassifier(l2_regularizat...</td>\n",
       "    </tr>\n",
       "  </tbody>\n",
       "</table>\n",
       "</div>"
      ],
      "text/plain": [
       "                   Precision  ...                                              Model\n",
       "0  [0.9469026548672567, 1.0]  ...  (HistGradientBoostingClassifier(l2_regularizat...\n",
       "\n",
       "[1 rows x 5 columns]"
      ]
     },
     "execution_count": 50,
     "metadata": {
      "tags": []
     },
     "output_type": "execute_result"
    }
   ],
   "source": [
    "# Get the:\n",
    "# feature matrix and target velctor in the combined training and validation data\n",
    "# target vector in the combined training and validation data\n",
    "# PredefinedSplit\n",
    "# See the implementation in pmlm_utilities.ipynb\n",
    "X_train_val, y_train_val, ps = get_train_val_ps(X_smote_train, y_smote_train, X_val, y_val)\n",
    "\n",
    "# Training, validation and test\n",
    "# See the implementation in pmlm_utilities.ipynb\n",
    "training_valation_test(X_train_val, y_train_val, X_test, y_test, ps, abspath_curr + 'result/cv_results/', 'smote')"
   ]
  },
  {
   "cell_type": "markdown",
   "metadata": {
    "id": "nsrwMgLqbT7b"
   },
   "source": [
    "#### Training, validation and test with respect to GANs"
   ]
  },
  {
   "cell_type": "code",
   "execution_count": 51,
   "metadata": {
    "colab": {
     "base_uri": "https://localhost:8080/",
     "height": 80
    },
    "executionInfo": {
     "elapsed": 42788,
     "status": "ok",
     "timestamp": 1604370408277,
     "user": {
      "displayName": "Huang Yuxiao",
      "photoUrl": "",
      "userId": "05167076769245149404"
     },
     "user_tz": 300
    },
    "id": "wLPLiTpq7sCn",
    "outputId": "5a1e7188-09ed-4c90-e7c9-349db0cbf292",
    "scrolled": true
   },
   "outputs": [
    {
     "data": {
      "text/html": [
       "<div>\n",
       "<style scoped>\n",
       "    .dataframe tbody tr th:only-of-type {\n",
       "        vertical-align: middle;\n",
       "    }\n",
       "\n",
       "    .dataframe tbody tr th {\n",
       "        vertical-align: top;\n",
       "    }\n",
       "\n",
       "    .dataframe thead th {\n",
       "        text-align: right;\n",
       "    }\n",
       "</style>\n",
       "<table border=\"1\" class=\"dataframe\">\n",
       "  <thead>\n",
       "    <tr style=\"text-align: right;\">\n",
       "      <th></th>\n",
       "      <th>Precision</th>\n",
       "      <th>Recall</th>\n",
       "      <th>F1-score</th>\n",
       "      <th>AUC</th>\n",
       "      <th>Model</th>\n",
       "    </tr>\n",
       "  </thead>\n",
       "  <tbody>\n",
       "    <tr>\n",
       "      <th>0</th>\n",
       "      <td>[0.9727272727272728, 1.0]</td>\n",
       "      <td>[1.0, 0.953125]</td>\n",
       "      <td>[0.9861751152073733, 0.976]</td>\n",
       "      <td>0.976562</td>\n",
       "      <td>(HistGradientBoostingClassifier(l2_regularizat...</td>\n",
       "    </tr>\n",
       "  </tbody>\n",
       "</table>\n",
       "</div>"
      ],
      "text/plain": [
       "                   Precision  ...                                              Model\n",
       "0  [0.9727272727272728, 1.0]  ...  (HistGradientBoostingClassifier(l2_regularizat...\n",
       "\n",
       "[1 rows x 5 columns]"
      ]
     },
     "execution_count": 51,
     "metadata": {
      "tags": []
     },
     "output_type": "execute_result"
    }
   ],
   "source": [
    "# Get the:\n",
    "# feature matrix and target velctor in the combined training and validation data\n",
    "# target vector in the combined training and validation data\n",
    "# PredefinedSplit\n",
    "# See the implementation in pmlm_utilities.ipynb\n",
    "X_train_val, y_train_val, ps = get_train_val_ps(X_gan_train, y_gan_train, X_val, y_val)\n",
    "\n",
    "# Training, validation and test\n",
    "# See the implementation in pmlm_utilities.ipynb\n",
    "training_valation_test(X_train_val, y_train_val, X_test, y_test, ps, abspath_curr + 'result/cv_results/', 'gan')"
   ]
  },
  {
   "cell_type": "markdown",
   "metadata": {
    "id": "Gb-f7eAP3OT9"
   },
   "source": [
    "## Step 4: Interpreting the results using visualization"
   ]
  },
  {
   "cell_type": "markdown",
   "metadata": {
    "id": "0dijfWHj3FWa"
   },
   "source": [
    "### Step 4a: Creating the directory of the figures"
   ]
  },
  {
   "cell_type": "code",
   "execution_count": 52,
   "metadata": {
    "executionInfo": {
     "elapsed": 42786,
     "status": "ok",
     "timestamp": 1604370408277,
     "user": {
      "displayName": "Huang Yuxiao",
      "photoUrl": "",
      "userId": "05167076769245149404"
     },
     "user_tz": 300
    },
    "id": "m2ywUgwl1Wvs"
   },
   "outputs": [],
   "source": [
    "import os\n",
    "\n",
    "# Make directory\n",
    "directory = os.path.dirname(abspath_curr + 'result/figure/')\n",
    "if not os.path.exists(directory):\n",
    "    os.makedirs(directory)"
   ]
  },
  {
   "cell_type": "markdown",
   "metadata": {
    "id": "CDH6VVwBE5Ce"
   },
   "source": [
    "### Step 4b: Visualization without data augmentation"
   ]
  },
  {
   "cell_type": "markdown",
   "metadata": {
    "id": "BiSa9Wv5q225"
   },
   "source": [
    "#### Plot the scatter plot"
   ]
  },
  {
   "cell_type": "code",
   "execution_count": 53,
   "metadata": {
    "colab": {
     "base_uri": "https://localhost:8080/",
     "height": 420
    },
    "executionInfo": {
     "elapsed": 45270,
     "status": "ok",
     "timestamp": 1604370410784,
     "user": {
      "displayName": "Huang Yuxiao",
      "photoUrl": "",
      "userId": "05167076769245149404"
     },
     "user_tz": 300
    },
    "id": "3gYUiYEAUeLw",
    "outputId": "7ed62002-da3f-409d-a61a-134a07c1285a"
   },
   "outputs": [
    {
     "data": {
      "image/png": "[encoded data removed]",
      "text/plain": [
       "<Figure size 576x432 with 1 Axes>"
      ]
     },
     "metadata": {
      "needs_background": "light",
      "tags": []
     },
     "output_type": "display_data"
    }
   ],
   "source": [
    "# Plot the scatter plot using TSNE\n",
    "# See the implementation in pmlm_utilities.ipynb\n",
    "plot_scatter_tsne(X_train,\n",
    "                  y_train, \n",
    "                  [0, 1],\n",
    "                  ['Benign', 'Malignant'],\n",
    "                  ['blue', 'green'],\n",
    "                  ['o', '^'],\n",
    "                  'bottom-left',\n",
    "                  abspath_curr + 'result/figure/',\n",
    "                  'scatter_plot_baseline.pdf',\n",
    "                  random_seed)"
   ]
  },
  {
   "cell_type": "markdown",
   "metadata": {
    "id": "hiKLqMHaUeLx"
   },
   "source": [
    "### Step 4c: Visualization with respect to RO"
   ]
  },
  {
   "cell_type": "markdown",
   "metadata": {
    "id": "xUxCeAeaq228"
   },
   "source": [
    "#### Separate the duplicated class from the original class"
   ]
  },
  {
   "cell_type": "code",
   "execution_count": 54,
   "metadata": {
    "executionInfo": {
     "elapsed": 45878,
     "status": "ok",
     "timestamp": 1604370411393,
     "user": {
      "displayName": "Huang Yuxiao",
      "photoUrl": "",
      "userId": "05167076769245149404"
     },
     "user_tz": 300
    },
    "id": "CzhVkj0Bz5Nq"
   },
   "outputs": [],
   "source": [
    "# See the implementation in pmlm_utilities.ipynb\n",
    "y_ros_dup_ori_train = separate_duplicate_original(X_ros_train, y_ros_train, 1)"
   ]
  },
  {
   "cell_type": "markdown",
   "metadata": {
    "id": "Ewf8UCykUeLy"
   },
   "source": [
    "#### Plot the scatter plot"
   ]
  },
  {
   "cell_type": "code",
   "execution_count": 55,
   "metadata": {
    "colab": {
     "base_uri": "https://localhost:8080/",
     "height": 420
    },
    "executionInfo": {
     "elapsed": 48931,
     "status": "ok",
     "timestamp": 1604370414469,
     "user": {
      "displayName": "Huang Yuxiao",
      "photoUrl": "",
      "userId": "05167076769245149404"
     },
     "user_tz": 300
    },
    "id": "iLWujzS6q225",
    "outputId": "a3351fe5-8d1a-410f-af7c-97cfbef4e9ba"
   },
   "outputs": [
    {
     "data": {
      "image/png": "[encoded data removed]",
      "text/plain": [
       "<Figure size 576x432 with 1 Axes>"
      ]
     },
     "metadata": {
      "needs_background": "light",
      "tags": []
     },
     "output_type": "display_data"
    }
   ],
   "source": [
    "# Plot the scatter plot using TSNE\n",
    "# See the implementation in pmlm_utilities.ipynb\n",
    "plot_scatter_tsne(X_ros_train,\n",
    "                  y_ros_dup_ori_train, \n",
    "                  [0, 1, 2],\n",
    "                  ['Benign', 'Malignant', 'Gen Malignant'],\n",
    "                  ['blue', 'green', 'red'],\n",
    "                  ['o', '^', 's'],\n",
    "                  'bottom-right',\n",
    "                  abspath_curr + 'result/figure/',\n",
    "                  'scatter_plot_ros.pdf',\n",
    "                  random_seed)"
   ]
  },
  {
   "cell_type": "markdown",
   "metadata": {
    "id": "1NVBcvdVUeL0"
   },
   "source": [
    "### Step 4d: Visualization with respect to SMOTE"
   ]
  },
  {
   "cell_type": "markdown",
   "metadata": {
    "id": "HIxckPhvz5Nu"
   },
   "source": [
    "#### Separate the generated class from the original class"
   ]
  },
  {
   "cell_type": "code",
   "execution_count": 56,
   "metadata": {
    "executionInfo": {
     "elapsed": 49196,
     "status": "ok",
     "timestamp": 1604370414735,
     "user": {
      "displayName": "Huang Yuxiao",
      "photoUrl": "",
      "userId": "05167076769245149404"
     },
     "user_tz": 300
    },
    "id": "3Yz_RR09z5Nv"
   },
   "outputs": [],
   "source": [
    "# See the implementation in pmlm_utilities.ipynb\n",
    "y_smote_gen_ori_train = separate_generate_original(X_smote_train, y_smote_train, X_train, y_train, 1)"
   ]
  },
  {
   "cell_type": "markdown",
   "metadata": {
    "id": "MP3INDC5z5Nw"
   },
   "source": [
    "#### Plot the scatter plot"
   ]
  },
  {
   "cell_type": "code",
   "execution_count": 57,
   "metadata": {
    "colab": {
     "base_uri": "https://localhost:8080/",
     "height": 420
    },
    "executionInfo": {
     "elapsed": 51773,
     "status": "ok",
     "timestamp": 1604370417336,
     "user": {
      "displayName": "Huang Yuxiao",
      "photoUrl": "",
      "userId": "05167076769245149404"
     },
     "user_tz": 300
    },
    "id": "9AeQMZp6q228",
    "outputId": "d80cefd2-7076-47d2-c7fa-541958d1cbc3",
    "scrolled": true
   },
   "outputs": [
    {
     "data": {
      "image/png": "[encoded data removed]",
      "text/plain": [
       "<Figure size 576x432 with 1 Axes>"
      ]
     },
     "metadata": {
      "needs_background": "light",
      "tags": []
     },
     "output_type": "display_data"
    }
   ],
   "source": [
    "# Plot the scatter plot using TSNE\n",
    "# See the implementation in pmlm_utilities.ipynb\n",
    "plot_scatter_tsne(X_smote_train,\n",
    "                  y_smote_gen_ori_train, \n",
    "                  [0, 1, 2],\n",
    "                  ['Benign', 'Malignant', 'Gen Malignant'],\n",
    "                  ['blue', 'green', 'red'],\n",
    "                  ['o', '^', 's'],\n",
    "                  'bottom-right',\n",
    "                  abspath_curr + 'result/figure/',\n",
    "                  'scatter_plot_smote.pdf',\n",
    "                  random_seed)"
   ]
  },
  {
   "cell_type": "markdown",
   "metadata": {
    "id": "TssMR5GdUeL4"
   },
   "source": [
    "### Step 4e: Visualization with respect to GANs"
   ]
  },
  {
   "cell_type": "markdown",
   "metadata": {
    "id": "VCq0bTA2UeL4"
   },
   "source": [
    "#### Separate the generated class from the original class"
   ]
  },
  {
   "cell_type": "code",
   "execution_count": 58,
   "metadata": {
    "executionInfo": {
     "elapsed": 52292,
     "status": "ok",
     "timestamp": 1604370417856,
     "user": {
      "displayName": "Huang Yuxiao",
      "photoUrl": "",
      "userId": "05167076769245149404"
     },
     "user_tz": 300
    },
    "id": "VHYb04A1UeL4"
   },
   "outputs": [],
   "source": [
    "# See the implementation in pmlm_utilities.ipynb\n",
    "y_gan_gen_ori_train = separate_generate_original(X_gan_train, y_gan_train, X_train, y_train, 1)"
   ]
  },
  {
   "cell_type": "markdown",
   "metadata": {
    "id": "SgTfRCAnUeL5"
   },
   "source": [
    "#### Plot the scatter plot"
   ]
  },
  {
   "cell_type": "code",
   "execution_count": 59,
   "metadata": {
    "colab": {
     "base_uri": "https://localhost:8080/",
     "height": 420
    },
    "executionInfo": {
     "elapsed": 55141,
     "status": "ok",
     "timestamp": 1604370420728,
     "user": {
      "displayName": "Huang Yuxiao",
      "photoUrl": "",
      "userId": "05167076769245149404"
     },
     "user_tz": 300
    },
    "id": "JFDFnp82UeL5",
    "outputId": "ee589723-4c9a-4671-fe66-96b3e65f65f7",
    "scrolled": true
   },
   "outputs": [
    {
     "data": {
      "image/png": "[encoded data removed]",
      "text/plain": [
       "<Figure size 576x432 with 1 Axes>"
      ]
     },
     "metadata": {
      "needs_background": "light",
      "tags": []
     },
     "output_type": "display_data"
    }
   ],
   "source": [
    "# Plot the scatter plot using TSNE\n",
    "# See the implementation in pmlm_utilities.ipynb\n",
    "plot_scatter_tsne(X_gan_train,\n",
    "                  y_gan_gen_ori_train, \n",
    "                  [0, 1, 2],\n",
    "                  ['Benign', 'Malignant', 'Gen Malignant'],\n",
    "                  ['blue', 'green', 'red'],\n",
    "                  ['o', '^', 's'],\n",
    "                  'bottom-right',\n",
    "                  abspath_curr + 'result/figure/',\n",
    "                  'scatter_plot_gan.pdf',\n",
    "                  random_seed)"
   ]
  },
  {
   "cell_type": "markdown",
   "metadata": {
    "id": "KeR3L0fsmq1G"
   },
   "source": [
    "# Reference\n",
    "- The code for data preprocessing, training / validating/ testing classifiers, and interpreting the results are from the code examples developed in the following course of [Yuxiao Huang](https://sites.google.com/view/yuxiaohuang/home?authuser=0) at George Washington University:\n",
    "    - [Popular Machine Learning Methods: Idea, Math and Practice](https://github.com/yuxiaohuang/teaching/tree/master/gwu/machine_learning_I)\n",
    "- The code for building, compiling and training GANs were largely inspired by the following work:\n",
    "    - Géron, A., 2019. *Hands-On Machine Learning with Scikit-Learn, Keras, and TensorFlow: Concepts, Tools, and Techniques to Build Intelligent Systems*. O'Reilly Media."
   ]
  }
 ],
 "metadata": {
  "colab": {
   "collapsed_sections": [],
   "name": "gan_classification.ipynb",
   "provenance": []
  },
  "kernelspec": {
   "display_name": "Python 3",
   "language": "python",
   "name": "python3"
  },
  "language_info": {
   "codemirror_mode": {
    "name": "ipython",
    "version": 3
   },
   "file_extension": ".py",
   "mimetype": "text/x-python",
   "name": "python",
   "nbconvert_exporter": "python",
   "pygments_lexer": "ipython3",
   "version": "3.7.6"
  },
  "toc": {
   "base_numbering": 1,
   "nav_menu": {},
   "number_sections": true,
   "sideBar": true,
   "skip_h1_title": false,
   "title_cell": "Table of Contents",
   "title_sidebar": "Contents",
   "toc_cell": true,
   "toc_position": {},
   "toc_section_display": true,
   "toc_window_display": false
  }
 },
 "nbformat": 4,
 "nbformat_minor": 1
}
